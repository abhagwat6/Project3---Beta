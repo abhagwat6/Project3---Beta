{
 "cells": [
  {
   "cell_type": "markdown",
   "id": "df4ce4b8-1d66-491f-8b96-6c21891ef30b",
   "metadata": {},
   "source": [
    "# Disease Prediction and Care Suggestion Model"
   ]
  },
  {
   "cell_type": "markdown",
   "id": "671cf63d-b27c-4103-a18e-1d120108ee68",
   "metadata": {},
   "source": [
    "## Data Loading and Preprocessing"
   ]
  },
  {
   "cell_type": "code",
   "execution_count": 1,
   "id": "b503b675-40a9-4d22-b0cc-8aa740426997",
   "metadata": {},
   "outputs": [
    {
     "data": {
      "text/html": [
       "<div>\n",
       "<style scoped>\n",
       "    .dataframe tbody tr th:only-of-type {\n",
       "        vertical-align: middle;\n",
       "    }\n",
       "\n",
       "    .dataframe tbody tr th {\n",
       "        vertical-align: top;\n",
       "    }\n",
       "\n",
       "    .dataframe thead th {\n",
       "        text-align: right;\n",
       "    }\n",
       "</style>\n",
       "<table border=\"1\" class=\"dataframe\">\n",
       "  <thead>\n",
       "    <tr style=\"text-align: right;\">\n",
       "      <th></th>\n",
       "      <th>Disease</th>\n",
       "      <th>Symptom_1</th>\n",
       "      <th>Symptom_2</th>\n",
       "      <th>Symptom_3</th>\n",
       "      <th>Symptom_4</th>\n",
       "      <th>Symptom_5</th>\n",
       "      <th>Symptom_6</th>\n",
       "      <th>Symptom_7</th>\n",
       "      <th>Symptom_8</th>\n",
       "      <th>Symptom_9</th>\n",
       "      <th>Symptom_10</th>\n",
       "      <th>Symptom_11</th>\n",
       "      <th>Symptom_12</th>\n",
       "      <th>Symptom_13</th>\n",
       "      <th>Symptom_14</th>\n",
       "      <th>Symptom_15</th>\n",
       "      <th>Symptom_16</th>\n",
       "      <th>Symptom_17</th>\n",
       "    </tr>\n",
       "  </thead>\n",
       "  <tbody>\n",
       "    <tr>\n",
       "      <th>209</th>\n",
       "      <td>Heart Disease</td>\n",
       "      <td>Blood in stool</td>\n",
       "      <td>Bowel issues</td>\n",
       "      <td>Nausea</td>\n",
       "      <td>Constipation</td>\n",
       "      <td>Jaw pain</td>\n",
       "      <td>Fatigue</td>\n",
       "      <td>Itching</td>\n",
       "      <td>Irregular heartbeat</td>\n",
       "      <td>Diarrhea</td>\n",
       "      <td>Bloating</td>\n",
       "      <td>Swelling</td>\n",
       "      <td>Weakness</td>\n",
       "      <td>Difficulty swallowing</td>\n",
       "      <td>Numbness</td>\n",
       "      <td>Shortness of breath</td>\n",
       "      <td>Thickened skin</td>\n",
       "      <td>Gas</td>\n",
       "    </tr>\n",
       "    <tr>\n",
       "      <th>280</th>\n",
       "      <td>Rheumatoid Arthritis</td>\n",
       "      <td>Unexplained bleeding</td>\n",
       "      <td>Bowel issues</td>\n",
       "      <td>Stooped posture</td>\n",
       "      <td>Burning</td>\n",
       "      <td>Nausea</td>\n",
       "      <td>Nosebleeds</td>\n",
       "      <td>Increased mucus production</td>\n",
       "      <td>Vomiting</td>\n",
       "      <td>Chest discomfort</td>\n",
       "      <td>Diarrhea</td>\n",
       "      <td>Loss of height</td>\n",
       "      <td>Swelling</td>\n",
       "      <td>Itching</td>\n",
       "      <td>Tenderness</td>\n",
       "      <td>Bloating</td>\n",
       "      <td>Irritability</td>\n",
       "      <td>Shortness of breath</td>\n",
       "    </tr>\n",
       "    <tr>\n",
       "      <th>33</th>\n",
       "      <td>Bronchitis</td>\n",
       "      <td>Bowel issues</td>\n",
       "      <td>Soreness</td>\n",
       "      <td>Throbbing pain</td>\n",
       "      <td>Nosebleeds</td>\n",
       "      <td>Increased mucus production</td>\n",
       "      <td>Frequent urination</td>\n",
       "      <td>Chest discomfort</td>\n",
       "      <td>Slight fever</td>\n",
       "      <td>Vomiting</td>\n",
       "      <td>Swelling</td>\n",
       "      <td>Mucus production</td>\n",
       "      <td>Bone pain</td>\n",
       "      <td>Blisters</td>\n",
       "      <td>Shortness of breath</td>\n",
       "      <td>Anemia</td>\n",
       "      <td>Sore that doesn’t heal</td>\n",
       "      <td>Gas</td>\n",
       "    </tr>\n",
       "    <tr>\n",
       "      <th>210</th>\n",
       "      <td>Gout</td>\n",
       "      <td>Redness</td>\n",
       "      <td>Blood in stool</td>\n",
       "      <td>Inability to defecate</td>\n",
       "      <td>Bleeding mole</td>\n",
       "      <td>Nausea</td>\n",
       "      <td>Rapid pulse</td>\n",
       "      <td>Increased mucus production</td>\n",
       "      <td>Hard lumps</td>\n",
       "      <td>Constipation</td>\n",
       "      <td>Vomiting</td>\n",
       "      <td>Slight fever</td>\n",
       "      <td>Diarrhea</td>\n",
       "      <td>Bloating</td>\n",
       "      <td>Swelling</td>\n",
       "      <td>Tophi</td>\n",
       "      <td>Shortness of breath</td>\n",
       "      <td>Hunger</td>\n",
       "    </tr>\n",
       "    <tr>\n",
       "      <th>93</th>\n",
       "      <td>Bronchitis</td>\n",
       "      <td>Pneumonia</td>\n",
       "      <td>Nosebleeds</td>\n",
       "      <td>Hard lumps</td>\n",
       "      <td>Increased mucus production</td>\n",
       "      <td>Increased thirst</td>\n",
       "      <td>Belching</td>\n",
       "      <td>Chest discomfort</td>\n",
       "      <td>Vomiting</td>\n",
       "      <td>Diarrhea</td>\n",
       "      <td>Bloating</td>\n",
       "      <td>Bone fractures</td>\n",
       "      <td>Swelling</td>\n",
       "      <td>Tenderness</td>\n",
       "      <td>Irritability</td>\n",
       "      <td>Numbness</td>\n",
       "      <td>Shortness of breath</td>\n",
       "      <td>Sore that doesn’t heal</td>\n",
       "    </tr>\n",
       "  </tbody>\n",
       "</table>\n",
       "</div>"
      ],
      "text/plain": [
       "                  Disease             Symptom_1       Symptom_2  \\\n",
       "209         Heart Disease        Blood in stool    Bowel issues   \n",
       "280  Rheumatoid Arthritis  Unexplained bleeding    Bowel issues   \n",
       "33             Bronchitis          Bowel issues        Soreness   \n",
       "210                  Gout               Redness  Blood in stool   \n",
       "93             Bronchitis             Pneumonia      Nosebleeds   \n",
       "\n",
       "                 Symptom_3                   Symptom_4  \\\n",
       "209                 Nausea                Constipation   \n",
       "280        Stooped posture                     Burning   \n",
       "33          Throbbing pain                  Nosebleeds   \n",
       "210  Inability to defecate               Bleeding mole   \n",
       "93              Hard lumps  Increased mucus production   \n",
       "\n",
       "                      Symptom_5           Symptom_6  \\\n",
       "209                    Jaw pain             Fatigue   \n",
       "280                      Nausea          Nosebleeds   \n",
       "33   Increased mucus production  Frequent urination   \n",
       "210                      Nausea         Rapid pulse   \n",
       "93             Increased thirst            Belching   \n",
       "\n",
       "                      Symptom_7            Symptom_8         Symptom_9  \\\n",
       "209                     Itching  Irregular heartbeat          Diarrhea   \n",
       "280  Increased mucus production             Vomiting  Chest discomfort   \n",
       "33             Chest discomfort         Slight fever          Vomiting   \n",
       "210  Increased mucus production           Hard lumps      Constipation   \n",
       "93             Chest discomfort             Vomiting          Diarrhea   \n",
       "\n",
       "    Symptom_10        Symptom_11 Symptom_12             Symptom_13  \\\n",
       "209   Bloating          Swelling   Weakness  Difficulty swallowing   \n",
       "280   Diarrhea    Loss of height   Swelling                Itching   \n",
       "33    Swelling  Mucus production  Bone pain               Blisters   \n",
       "210   Vomiting      Slight fever   Diarrhea               Bloating   \n",
       "93    Bloating    Bone fractures   Swelling             Tenderness   \n",
       "\n",
       "              Symptom_14           Symptom_15              Symptom_16  \\\n",
       "209             Numbness  Shortness of breath          Thickened skin   \n",
       "280           Tenderness             Bloating            Irritability   \n",
       "33   Shortness of breath               Anemia  Sore that doesn’t heal   \n",
       "210             Swelling                Tophi     Shortness of breath   \n",
       "93          Irritability             Numbness     Shortness of breath   \n",
       "\n",
       "                 Symptom_17  \n",
       "209                     Gas  \n",
       "280     Shortness of breath  \n",
       "33                      Gas  \n",
       "210                  Hunger  \n",
       "93   Sore that doesn’t heal  "
      ]
     },
     "execution_count": 1,
     "metadata": {},
     "output_type": "execute_result"
    }
   ],
   "source": [
    "import pandas as pd\n",
    "from sklearn.utils import shuffle\n",
    "\n",
    "# Load the dataset\n",
    "df = pd.read_csv('dataset_kaggle.csv')\n",
    "\n",
    "# Shuffle the dataset\n",
    "df = shuffle(df, random_state=42)\n",
    "\n",
    "# Display the first few rows of the dataset\n",
    "df.head()\n"
   ]
  },
  {
   "cell_type": "code",
   "execution_count": 2,
   "id": "0826c170-4241-41d9-a3f5-c04d68c6c488",
   "metadata": {},
   "outputs": [
    {
     "data": {
      "text/html": [
       "<div>\n",
       "<style scoped>\n",
       "    .dataframe tbody tr th:only-of-type {\n",
       "        vertical-align: middle;\n",
       "    }\n",
       "\n",
       "    .dataframe tbody tr th {\n",
       "        vertical-align: top;\n",
       "    }\n",
       "\n",
       "    .dataframe thead th {\n",
       "        text-align: right;\n",
       "    }\n",
       "</style>\n",
       "<table border=\"1\" class=\"dataframe\">\n",
       "  <thead>\n",
       "    <tr style=\"text-align: right;\">\n",
       "      <th></th>\n",
       "      <th>Disease</th>\n",
       "      <th>Symptom_1</th>\n",
       "      <th>Symptom_2</th>\n",
       "      <th>Symptom_3</th>\n",
       "      <th>Symptom_4</th>\n",
       "      <th>Symptom_5</th>\n",
       "      <th>Symptom_6</th>\n",
       "      <th>Symptom_7</th>\n",
       "      <th>Symptom_8</th>\n",
       "      <th>Symptom_9</th>\n",
       "      <th>Symptom_10</th>\n",
       "      <th>Symptom_11</th>\n",
       "      <th>Symptom_12</th>\n",
       "      <th>Symptom_13</th>\n",
       "      <th>Symptom_14</th>\n",
       "      <th>Symptom_15</th>\n",
       "      <th>Symptom_16</th>\n",
       "      <th>Symptom_17</th>\n",
       "    </tr>\n",
       "  </thead>\n",
       "  <tbody>\n",
       "    <tr>\n",
       "      <th>209</th>\n",
       "      <td>Heart Disease</td>\n",
       "      <td>Blood in stool</td>\n",
       "      <td>Bowel issues</td>\n",
       "      <td>Nausea</td>\n",
       "      <td>Constipation</td>\n",
       "      <td>Jaw pain</td>\n",
       "      <td>Fatigue</td>\n",
       "      <td>Itching</td>\n",
       "      <td>Irregular heartbeat</td>\n",
       "      <td>Diarrhea</td>\n",
       "      <td>Bloating</td>\n",
       "      <td>Swelling</td>\n",
       "      <td>Weakness</td>\n",
       "      <td>Difficulty swallowing</td>\n",
       "      <td>Numbness</td>\n",
       "      <td>Shortness of breath</td>\n",
       "      <td>Thickened skin</td>\n",
       "      <td>Gas</td>\n",
       "    </tr>\n",
       "    <tr>\n",
       "      <th>280</th>\n",
       "      <td>Rheumatoid Arthritis</td>\n",
       "      <td>Unexplained bleeding</td>\n",
       "      <td>Bowel issues</td>\n",
       "      <td>Stooped posture</td>\n",
       "      <td>Burning</td>\n",
       "      <td>Nausea</td>\n",
       "      <td>Nosebleeds</td>\n",
       "      <td>Increased mucus production</td>\n",
       "      <td>Vomiting</td>\n",
       "      <td>Chest discomfort</td>\n",
       "      <td>Diarrhea</td>\n",
       "      <td>Loss of height</td>\n",
       "      <td>Swelling</td>\n",
       "      <td>Itching</td>\n",
       "      <td>Tenderness</td>\n",
       "      <td>Bloating</td>\n",
       "      <td>Irritability</td>\n",
       "      <td>Shortness of breath</td>\n",
       "    </tr>\n",
       "    <tr>\n",
       "      <th>33</th>\n",
       "      <td>Bronchitis</td>\n",
       "      <td>Bowel issues</td>\n",
       "      <td>Soreness</td>\n",
       "      <td>Throbbing pain</td>\n",
       "      <td>Nosebleeds</td>\n",
       "      <td>Increased mucus production</td>\n",
       "      <td>Frequent urination</td>\n",
       "      <td>Chest discomfort</td>\n",
       "      <td>Slight fever</td>\n",
       "      <td>Vomiting</td>\n",
       "      <td>Swelling</td>\n",
       "      <td>Mucus production</td>\n",
       "      <td>Bone pain</td>\n",
       "      <td>Blisters</td>\n",
       "      <td>Shortness of breath</td>\n",
       "      <td>Anemia</td>\n",
       "      <td>Sore that doesn’t heal</td>\n",
       "      <td>Gas</td>\n",
       "    </tr>\n",
       "    <tr>\n",
       "      <th>210</th>\n",
       "      <td>Gout</td>\n",
       "      <td>Redness</td>\n",
       "      <td>Blood in stool</td>\n",
       "      <td>Inability to defecate</td>\n",
       "      <td>Bleeding mole</td>\n",
       "      <td>Nausea</td>\n",
       "      <td>Rapid pulse</td>\n",
       "      <td>Increased mucus production</td>\n",
       "      <td>Hard lumps</td>\n",
       "      <td>Constipation</td>\n",
       "      <td>Vomiting</td>\n",
       "      <td>Slight fever</td>\n",
       "      <td>Diarrhea</td>\n",
       "      <td>Bloating</td>\n",
       "      <td>Swelling</td>\n",
       "      <td>Tophi</td>\n",
       "      <td>Shortness of breath</td>\n",
       "      <td>Hunger</td>\n",
       "    </tr>\n",
       "    <tr>\n",
       "      <th>93</th>\n",
       "      <td>Bronchitis</td>\n",
       "      <td>Pneumonia</td>\n",
       "      <td>Nosebleeds</td>\n",
       "      <td>Hard lumps</td>\n",
       "      <td>Increased mucus production</td>\n",
       "      <td>Increased thirst</td>\n",
       "      <td>Belching</td>\n",
       "      <td>Chest discomfort</td>\n",
       "      <td>Vomiting</td>\n",
       "      <td>Diarrhea</td>\n",
       "      <td>Bloating</td>\n",
       "      <td>Bone fractures</td>\n",
       "      <td>Swelling</td>\n",
       "      <td>Tenderness</td>\n",
       "      <td>Irritability</td>\n",
       "      <td>Numbness</td>\n",
       "      <td>Shortness of breath</td>\n",
       "      <td>Sore that doesn’t heal</td>\n",
       "    </tr>\n",
       "  </tbody>\n",
       "</table>\n",
       "</div>"
      ],
      "text/plain": [
       "                  Disease             Symptom_1       Symptom_2  \\\n",
       "209         Heart Disease        Blood in stool    Bowel issues   \n",
       "280  Rheumatoid Arthritis  Unexplained bleeding    Bowel issues   \n",
       "33             Bronchitis          Bowel issues        Soreness   \n",
       "210                  Gout               Redness  Blood in stool   \n",
       "93             Bronchitis             Pneumonia      Nosebleeds   \n",
       "\n",
       "                 Symptom_3                   Symptom_4  \\\n",
       "209                 Nausea                Constipation   \n",
       "280        Stooped posture                     Burning   \n",
       "33          Throbbing pain                  Nosebleeds   \n",
       "210  Inability to defecate               Bleeding mole   \n",
       "93              Hard lumps  Increased mucus production   \n",
       "\n",
       "                      Symptom_5           Symptom_6  \\\n",
       "209                    Jaw pain             Fatigue   \n",
       "280                      Nausea          Nosebleeds   \n",
       "33   Increased mucus production  Frequent urination   \n",
       "210                      Nausea         Rapid pulse   \n",
       "93             Increased thirst            Belching   \n",
       "\n",
       "                      Symptom_7            Symptom_8         Symptom_9  \\\n",
       "209                     Itching  Irregular heartbeat          Diarrhea   \n",
       "280  Increased mucus production             Vomiting  Chest discomfort   \n",
       "33             Chest discomfort         Slight fever          Vomiting   \n",
       "210  Increased mucus production           Hard lumps      Constipation   \n",
       "93             Chest discomfort             Vomiting          Diarrhea   \n",
       "\n",
       "    Symptom_10        Symptom_11 Symptom_12             Symptom_13  \\\n",
       "209   Bloating          Swelling   Weakness  Difficulty swallowing   \n",
       "280   Diarrhea    Loss of height   Swelling                Itching   \n",
       "33    Swelling  Mucus production  Bone pain               Blisters   \n",
       "210   Vomiting      Slight fever   Diarrhea               Bloating   \n",
       "93    Bloating    Bone fractures   Swelling             Tenderness   \n",
       "\n",
       "              Symptom_14           Symptom_15              Symptom_16  \\\n",
       "209             Numbness  Shortness of breath          Thickened skin   \n",
       "280           Tenderness             Bloating            Irritability   \n",
       "33   Shortness of breath               Anemia  Sore that doesn’t heal   \n",
       "210             Swelling                Tophi     Shortness of breath   \n",
       "93          Irritability             Numbness     Shortness of breath   \n",
       "\n",
       "                 Symptom_17  \n",
       "209                     Gas  \n",
       "280     Shortness of breath  \n",
       "33                      Gas  \n",
       "210                  Hunger  \n",
       "93   Sore that doesn’t heal  "
      ]
     },
     "execution_count": 2,
     "metadata": {},
     "output_type": "execute_result"
    }
   ],
   "source": [
    "# Replace hyphens with spaces in the symptom columns\n",
    "for col in df.columns[1:]:\n",
    "    df[col] = df[col].str.replace('_', ' ')\n",
    "\n",
    "# Strip any leading or trailing spaces from the symptom strings\n",
    "df = df.apply(lambda x: x.str.strip() if x.dtype == \"object\" else x)\n",
    "\n",
    "# Replace NaN values with 0\n",
    "df = df.fillna(0)\n",
    "\n",
    "# Display the cleaned dataset\n",
    "df.head()\n"
   ]
  },
  {
   "cell_type": "markdown",
   "id": "64265a55-38e1-433c-8863-f3a335d46843",
   "metadata": {},
   "source": [
    "## Exploratory Data Analysis (EDA)"
   ]
  },
  {
   "cell_type": "markdown",
   "id": "82c8b7b0-2887-47e9-a328-44aa7a47e513",
   "metadata": {},
   "source": [
    "#### Distribution of Diseases:"
   ]
  },
  {
   "cell_type": "code",
   "execution_count": 3,
   "id": "1a35c364-fb53-4d51-a3c9-ab20c45fb78f",
   "metadata": {},
   "outputs": [],
   "source": [
    "import matplotlib.pyplot as plt"
   ]
  },
  {
   "cell_type": "code",
   "execution_count": 4,
   "id": "e1a95f80-fc1d-4065-9748-f102c67aff99",
   "metadata": {},
   "outputs": [
    {
     "data": {
      "image/png": "[encoded data removed]",
      "text/plain": [
       "<Figure size 1000x500 with 1 Axes>"
      ]
     },
     "metadata": {},
     "output_type": "display_data"
    }
   ],
   "source": [
    "# Count the number of occurrences for each disease\n",
    "disease_distribution = df['Disease'].value_counts()\n",
    "\n",
    "# Plot the distribution of diseases\n",
    "plt.figure(figsize=(10, 5))\n",
    "disease_distribution.plot(kind='bar')\n",
    "plt.title(\"Distribution of Diseases\")\n",
    "plt.xlabel(\"Disease\")\n",
    "plt.ylabel(\"Number of Instances\")\n",
    "\n",
    "# Annotate each bar with the number of instances\n",
    "for index, value in enumerate(disease_distribution):\n",
    "    plt.text(index, value + 0.1, str(value), ha='center')\n",
    "\n",
    "plt.show()"
   ]
  },
  {
   "cell_type": "markdown",
   "id": "0f1726f3-3d16-4ce4-bd54-6e1be614d5f2",
   "metadata": {},
   "source": [
    "#### Distribution of Symptoms:"
   ]
  },
  {
   "cell_type": "code",
   "execution_count": 5,
   "id": "28fb2fbd-2886-4da7-b3b1-80d5c810f994",
   "metadata": {},
   "outputs": [
    {
     "data": {
      "application/vnd.plotly.v1+json": {
       "config": {
        "plotlyServerURL": "https://plot.ly"
       },
       "data": [
        {
         "customdata": [
          [
           325
          ],
          [
           322
          ],
          [
           321
          ],
          [
           257
          ],
          [
           251
          ],
          [
           250
          ],
          [
           220
          ],
          [
           144
          ],
          [
           134
          ],
          [
           132
          ],
          [
           131
          ],
          [
           123
          ],
          [
           120
          ],
          [
           115
          ],
          [
           106
          ],
          [
           102
          ],
          [
           89
          ],
          [
           87
          ],
          [
           85
          ],
          [
           85
          ],
          [
           83
          ],
          [
           82
          ],
          [
           82
          ],
          [
           80
          ],
          [
           80
          ],
          [
           78
          ],
          [
           78
          ],
          [
           76
          ],
          [
           75
          ],
          [
           74
          ],
          [
           73
          ],
          [
           72
          ],
          [
           71
          ],
          [
           71
          ],
          [
           69
          ],
          [
           68
          ],
          [
           68
          ],
          [
           68
          ],
          [
           67
          ],
          [
           67
          ],
          [
           66
          ],
          [
           65
          ],
          [
           64
          ],
          [
           63
          ],
          [
           60
          ],
          [
           60
          ],
          [
           60
          ],
          [
           59
          ],
          [
           59
          ],
          [
           59
          ],
          [
           57
          ],
          [
           57
          ],
          [
           56
          ],
          [
           56
          ],
          [
           56
          ],
          [
           56
          ],
          [
           56
          ],
          [
           51
          ],
          [
           49
          ],
          [
           47
          ],
          [
           46
          ],
          [
           45
          ],
          [
           45
          ],
          [
           39
          ],
          [
           37
          ],
          [
           36
          ],
          [
           35
          ],
          [
           35
          ],
          [
           34
          ],
          [
           33
          ],
          [
           31
          ],
          [
           28
          ],
          [
           28
          ],
          [
           25
          ],
          [
           24
          ],
          [
           20
          ],
          [
           20
          ],
          [
           19
          ],
          [
           18
          ],
          [
           17
          ],
          [
           17
          ],
          [
           16
          ],
          [
           14
          ],
          [
           12
          ],
          [
           12
          ],
          [
           9
          ],
          [
           9
          ],
          [
           8
          ],
          [
           6
          ],
          [
           6
          ],
          [
           6
          ],
          [
           5
          ],
          [
           4
          ],
          [
           4
          ],
          [
           4
          ],
          [
           2
          ],
          [
           2
          ],
          [
           2
          ],
          [
           2
          ],
          [
           1
          ],
          [
           1
          ],
          [
           1
          ],
          [
           1
          ],
          [
           1
          ],
          [
           1
          ],
          [
           1
          ],
          [
           1
          ]
         ],
         "domain": {
          "x": [
           0,
           1
          ],
          "y": [
           0,
           1
          ]
         },
         "hovertemplate": "Symptoms=%{label}<br>Number of Instances=%{customdata[0]}<extra></extra>",
         "labels": [
          "Diarrhea",
          "Shortness of breath",
          "Vomiting",
          "Nausea",
          "Bloating",
          "Swelling",
          "Itching",
          "Nosebleeds",
          "Hunger",
          "Chest discomfort",
          "Anemia",
          "Frequent urination",
          "Difficulty swallowing",
          "Redness",
          "Numbness",
          "Fatigue",
          "Constipation",
          "Increased mucus production",
          "Sore that doesn’t heal",
          "Receding gums",
          "Hard lumps",
          "Swollen joints",
          "Gas",
          "Reduced appetite",
          "Tenderness",
          "Thickened skin",
          "Blisters",
          "Bone pain",
          "Tender abdomen",
          "Difficulty sleeping",
          "Loss of smell",
          "Neck stiffness",
          "Bone fractures",
          "Difficulty performing familiar tasks",
          "Tophi",
          "Loss of height",
          "Severe headache",
          "Change in existing mole",
          "Blood in stool",
          "Unexplained bleeding",
          "Inability to defecate",
          "Slight fever",
          "Mucus production",
          "Unexplained fevers",
          "Bowel issues",
          "Body aches",
          "Staring spells",
          "Sneezing",
          "Irritability",
          "Problems with words",
          "Withdrawal from work",
          "Difficulty thinking",
          "Burning",
          "Fear",
          "Throbbing pain",
          "Soreness",
          "Stooped posture",
          "Bleeding mole",
          "Rash",
          "Skin infections",
          "Pneumonia",
          "Morning stiffness",
          "Loss of taste",
          "Change in bowel habits",
          "Coughing up blood",
          "Rapid pulse",
          "Increased thirst",
          "Tremor",
          "Aura",
          "Misplacing things",
          "Belching",
          "Unconsciousness",
          "Jaw pain",
          "Pain during urination",
          "Loss of automatic movements",
          "Mild fever",
          "Fullness",
          "Weakness",
          "Frequent infections",
          "Irregular heartbeat",
          "Congestion",
          "Difficulty walking",
          "Depression",
          "Butterfly-shaped rash",
          "Stiff joints",
          "Mouth sores",
          "Sensitivity to light",
          "Easy bruising",
          "Anxiety",
          "Bladder issues",
          "Writing changes",
          "Persistent cough",
          "Double vision",
          "Chest pain",
          "Swollen lymph nodes",
          "Pigment spread",
          "Hair loss",
          "Headache",
          "Limited range of motion",
          "Poor judgment",
          "Persistent pain",
          "Pale skin",
          "Redness in joints",
          "Swelling in ankles",
          "Lump or swelling",
          "Seizures",
          "Skin changes"
         ],
         "legendgroup": "",
         "name": "",
         "showlegend": true,
         "textinfo": "percent+label",
         "textposition": "inside",
         "type": "pie",
         "values": [
          325,
          322,
          321,
          257,
          251,
          250,
          220,
          144,
          134,
          132,
          131,
          123,
          120,
          115,
          106,
          102,
          89,
          87,
          85,
          85,
          83,
          82,
          82,
          80,
          80,
          78,
          78,
          76,
          75,
          74,
          73,
          72,
          71,
          71,
          69,
          68,
          68,
          68,
          67,
          67,
          66,
          65,
          64,
          63,
          60,
          60,
          60,
          59,
          59,
          59,
          57,
          57,
          56,
          56,
          56,
          56,
          56,
          51,
          49,
          47,
          46,
          45,
          45,
          39,
          37,
          36,
          35,
          35,
          34,
          33,
          31,
          28,
          28,
          25,
          24,
          20,
          20,
          19,
          18,
          17,
          17,
          16,
          14,
          12,
          12,
          9,
          9,
          8,
          6,
          6,
          6,
          5,
          4,
          4,
          4,
          2,
          2,
          2,
          2,
          1,
          1,
          1,
          1,
          1,
          1,
          1,
          1
         ]
        }
       ],
       "layout": {
        "height": 600,
        "legend": {
         "tracegroupgap": 0
        },
        "margin": {
         "b": 40,
         "l": 40,
         "r": 40,
         "t": 40
        },
        "template": {
         "data": {
          "bar": [
           {
            "error_x": {
             "color": "#2a3f5f"
            },
            "error_y": {
             "color": "#2a3f5f"
            },
            "marker": {
             "line": {
              "color": "#E5ECF6",
              "width": 0.5
             },
             "pattern": {
              "fillmode": "overlay",
              "size": 10,
              "solidity": 0.2
             }
            },
            "type": "bar"
           }
          ],
          "barpolar": [
           {
            "marker": {
             "line": {
              "color": "#E5ECF6",
              "width": 0.5
             },
             "pattern": {
              "fillmode": "overlay",
              "size": 10,
              "solidity": 0.2
             }
            },
            "type": "barpolar"
           }
          ],
          "carpet": [
           {
            "aaxis": {
             "endlinecolor": "#2a3f5f",
             "gridcolor": "white",
             "linecolor": "white",
             "minorgridcolor": "white",
             "startlinecolor": "#2a3f5f"
            },
            "baxis": {
             "endlinecolor": "#2a3f5f",
             "gridcolor": "white",
             "linecolor": "white",
             "minorgridcolor": "white",
             "startlinecolor": "#2a3f5f"
            },
            "type": "carpet"
           }
          ],
          "choropleth": [
           {
            "colorbar": {
             "outlinewidth": 0,
             "ticks": ""
            },
            "type": "choropleth"
           }
          ],
          "contour": [
           {
            "colorbar": {
             "outlinewidth": 0,
             "ticks": ""
            },
            "colorscale": [
             [
              0,
              "#0d0887"
             ],
             [
              0.1111111111111111,
              "#46039f"
             ],
             [
              0.2222222222222222,
              "#7201a8"
             ],
             [
              0.3333333333333333,
              "#9c179e"
             ],
             [
              0.4444444444444444,
              "#bd3786"
             ],
             [
              0.5555555555555556,
              "#d8576b"
             ],
             [
              0.6666666666666666,
              "#ed7953"
             ],
             [
              0.7777777777777778,
              "#fb9f3a"
             ],
             [
              0.8888888888888888,
              "#fdca26"
             ],
             [
              1,
              "#f0f921"
             ]
            ],
            "type": "contour"
           }
          ],
          "contourcarpet": [
           {
            "colorbar": {
             "outlinewidth": 0,
             "ticks": ""
            },
            "type": "contourcarpet"
           }
          ],
          "heatmap": [
           {
            "colorbar": {
             "outlinewidth": 0,
             "ticks": ""
            },
            "colorscale": [
             [
              0,
              "#0d0887"
             ],
             [
              0.1111111111111111,
              "#46039f"
             ],
             [
              0.2222222222222222,
              "#7201a8"
             ],
             [
              0.3333333333333333,
              "#9c179e"
             ],
             [
              0.4444444444444444,
              "#bd3786"
             ],
             [
              0.5555555555555556,
              "#d8576b"
             ],
             [
              0.6666666666666666,
              "#ed7953"
             ],
             [
              0.7777777777777778,
              "#fb9f3a"
             ],
             [
              0.8888888888888888,
              "#fdca26"
             ],
             [
              1,
              "#f0f921"
             ]
            ],
            "type": "heatmap"
           }
          ],
          "heatmapgl": [
           {
            "colorbar": {
             "outlinewidth": 0,
             "ticks": ""
            },
            "colorscale": [
             [
              0,
              "#0d0887"
             ],
             [
              0.1111111111111111,
              "#46039f"
             ],
             [
              0.2222222222222222,
              "#7201a8"
             ],
             [
              0.3333333333333333,
              "#9c179e"
             ],
             [
              0.4444444444444444,
              "#bd3786"
             ],
             [
              0.5555555555555556,
              "#d8576b"
             ],
             [
              0.6666666666666666,
              "#ed7953"
             ],
             [
              0.7777777777777778,
              "#fb9f3a"
             ],
             [
              0.8888888888888888,
              "#fdca26"
             ],
             [
              1,
              "#f0f921"
             ]
            ],
            "type": "heatmapgl"
           }
          ],
          "histogram": [
           {
            "marker": {
             "pattern": {
              "fillmode": "overlay",
              "size": 10,
              "solidity": 0.2
             }
            },
            "type": "histogram"
           }
          ],
          "histogram2d": [
           {
            "colorbar": {
             "outlinewidth": 0,
             "ticks": ""
            },
            "colorscale": [
             [
              0,
              "#0d0887"
             ],
             [
              0.1111111111111111,
              "#46039f"
             ],
             [
              0.2222222222222222,
              "#7201a8"
             ],
             [
              0.3333333333333333,
              "#9c179e"
             ],
             [
              0.4444444444444444,
              "#bd3786"
             ],
             [
              0.5555555555555556,
              "#d8576b"
             ],
             [
              0.6666666666666666,
              "#ed7953"
             ],
             [
              0.7777777777777778,
              "#fb9f3a"
             ],
             [
              0.8888888888888888,
              "#fdca26"
             ],
             [
              1,
              "#f0f921"
             ]
            ],
            "type": "histogram2d"
           }
          ],
          "histogram2dcontour": [
           {
            "colorbar": {
             "outlinewidth": 0,
             "ticks": ""
            },
            "colorscale": [
             [
              0,
              "#0d0887"
             ],
             [
              0.1111111111111111,
              "#46039f"
             ],
             [
              0.2222222222222222,
              "#7201a8"
             ],
             [
              0.3333333333333333,
              "#9c179e"
             ],
             [
              0.4444444444444444,
              "#bd3786"
             ],
             [
              0.5555555555555556,
              "#d8576b"
             ],
             [
              0.6666666666666666,
              "#ed7953"
             ],
             [
              0.7777777777777778,
              "#fb9f3a"
             ],
             [
              0.8888888888888888,
              "#fdca26"
             ],
             [
              1,
              "#f0f921"
             ]
            ],
            "type": "histogram2dcontour"
           }
          ],
          "mesh3d": [
           {
            "colorbar": {
             "outlinewidth": 0,
             "ticks": ""
            },
            "type": "mesh3d"
           }
          ],
          "parcoords": [
           {
            "line": {
             "colorbar": {
              "outlinewidth": 0,
              "ticks": ""
             }
            },
            "type": "parcoords"
           }
          ],
          "pie": [
           {
            "automargin": true,
            "type": "pie"
           }
          ],
          "scatter": [
           {
            "fillpattern": {
             "fillmode": "overlay",
             "size": 10,
             "solidity": 0.2
            },
            "type": "scatter"
           }
          ],
          "scatter3d": [
           {
            "line": {
             "colorbar": {
              "outlinewidth": 0,
              "ticks": ""
             }
            },
            "marker": {
             "colorbar": {
              "outlinewidth": 0,
              "ticks": ""
             }
            },
            "type": "scatter3d"
           }
          ],
          "scattercarpet": [
           {
            "marker": {
             "colorbar": {
              "outlinewidth": 0,
              "ticks": ""
             }
            },
            "type": "scattercarpet"
           }
          ],
          "scattergeo": [
           {
            "marker": {
             "colorbar": {
              "outlinewidth": 0,
              "ticks": ""
             }
            },
            "type": "scattergeo"
           }
          ],
          "scattergl": [
           {
            "marker": {
             "colorbar": {
              "outlinewidth": 0,
              "ticks": ""
             }
            },
            "type": "scattergl"
           }
          ],
          "scattermapbox": [
           {
            "marker": {
             "colorbar": {
              "outlinewidth": 0,
              "ticks": ""
             }
            },
            "type": "scattermapbox"
           }
          ],
          "scatterpolar": [
           {
            "marker": {
             "colorbar": {
              "outlinewidth": 0,
              "ticks": ""
             }
            },
            "type": "scatterpolar"
           }
          ],
          "scatterpolargl": [
           {
            "marker": {
             "colorbar": {
              "outlinewidth": 0,
              "ticks": ""
             }
            },
            "type": "scatterpolargl"
           }
          ],
          "scatterternary": [
           {
            "marker": {
             "colorbar": {
              "outlinewidth": 0,
              "ticks": ""
             }
            },
            "type": "scatterternary"
           }
          ],
          "surface": [
           {
            "colorbar": {
             "outlinewidth": 0,
             "ticks": ""
            },
            "colorscale": [
             [
              0,
              "#0d0887"
             ],
             [
              0.1111111111111111,
              "#46039f"
             ],
             [
              0.2222222222222222,
              "#7201a8"
             ],
             [
              0.3333333333333333,
              "#9c179e"
             ],
             [
              0.4444444444444444,
              "#bd3786"
             ],
             [
              0.5555555555555556,
              "#d8576b"
             ],
             [
              0.6666666666666666,
              "#ed7953"
             ],
             [
              0.7777777777777778,
              "#fb9f3a"
             ],
             [
              0.8888888888888888,
              "#fdca26"
             ],
             [
              1,
              "#f0f921"
             ]
            ],
            "type": "surface"
           }
          ],
          "table": [
           {
            "cells": {
             "fill": {
              "color": "#EBF0F8"
             },
             "line": {
              "color": "white"
             }
            },
            "header": {
             "fill": {
              "color": "#C8D4E3"
             },
             "line": {
              "color": "white"
             }
            },
            "type": "table"
           }
          ]
         },
         "layout": {
          "annotationdefaults": {
           "arrowcolor": "#2a3f5f",
           "arrowhead": 0,
           "arrowwidth": 1
          },
          "autotypenumbers": "strict",
          "coloraxis": {
           "colorbar": {
            "outlinewidth": 0,
            "ticks": ""
           }
          },
          "colorscale": {
           "diverging": [
            [
             0,
             "#8e0152"
            ],
            [
             0.1,
             "#c51b7d"
            ],
            [
             0.2,
             "#de77ae"
            ],
            [
             0.3,
             "#f1b6da"
            ],
            [
             0.4,
             "#fde0ef"
            ],
            [
             0.5,
             "#f7f7f7"
            ],
            [
             0.6,
             "#e6f5d0"
            ],
            [
             0.7,
             "#b8e186"
            ],
            [
             0.8,
             "#7fbc41"
            ],
            [
             0.9,
             "#4d9221"
            ],
            [
             1,
             "#276419"
            ]
           ],
           "sequential": [
            [
             0,
             "#0d0887"
            ],
            [
             0.1111111111111111,
             "#46039f"
            ],
            [
             0.2222222222222222,
             "#7201a8"
            ],
            [
             0.3333333333333333,
             "#9c179e"
            ],
            [
             0.4444444444444444,
             "#bd3786"
            ],
            [
             0.5555555555555556,
             "#d8576b"
            ],
            [
             0.6666666666666666,
             "#ed7953"
            ],
            [
             0.7777777777777778,
             "#fb9f3a"
            ],
            [
             0.8888888888888888,
             "#fdca26"
            ],
            [
             1,
             "#f0f921"
            ]
           ],
           "sequentialminus": [
            [
             0,
             "#0d0887"
            ],
            [
             0.1111111111111111,
             "#46039f"
            ],
            [
             0.2222222222222222,
             "#7201a8"
            ],
            [
             0.3333333333333333,
             "#9c179e"
            ],
            [
             0.4444444444444444,
             "#bd3786"
            ],
            [
             0.5555555555555556,
             "#d8576b"
            ],
            [
             0.6666666666666666,
             "#ed7953"
            ],
            [
             0.7777777777777778,
             "#fb9f3a"
            ],
            [
             0.8888888888888888,
             "#fdca26"
            ],
            [
             1,
             "#f0f921"
            ]
           ]
          },
          "colorway": [
           "#636efa",
           "#EF553B",
           "#00cc96",
           "#ab63fa",
           "#FFA15A",
           "#19d3f3",
           "#FF6692",
           "#B6E880",
           "#FF97FF",
           "#FECB52"
          ],
          "font": {
           "color": "#2a3f5f"
          },
          "geo": {
           "bgcolor": "white",
           "lakecolor": "white",
           "landcolor": "#E5ECF6",
           "showlakes": true,
           "showland": true,
           "subunitcolor": "white"
          },
          "hoverlabel": {
           "align": "left"
          },
          "hovermode": "closest",
          "mapbox": {
           "style": "light"
          },
          "paper_bgcolor": "white",
          "plot_bgcolor": "#E5ECF6",
          "polar": {
           "angularaxis": {
            "gridcolor": "white",
            "linecolor": "white",
            "ticks": ""
           },
           "bgcolor": "#E5ECF6",
           "radialaxis": {
            "gridcolor": "white",
            "linecolor": "white",
            "ticks": ""
           }
          },
          "scene": {
           "xaxis": {
            "backgroundcolor": "#E5ECF6",
            "gridcolor": "white",
            "gridwidth": 2,
            "linecolor": "white",
            "showbackground": true,
            "ticks": "",
            "zerolinecolor": "white"
           },
           "yaxis": {
            "backgroundcolor": "#E5ECF6",
            "gridcolor": "white",
            "gridwidth": 2,
            "linecolor": "white",
            "showbackground": true,
            "ticks": "",
            "zerolinecolor": "white"
           },
           "zaxis": {
            "backgroundcolor": "#E5ECF6",
            "gridcolor": "white",
            "gridwidth": 2,
            "linecolor": "white",
            "showbackground": true,
            "ticks": "",
            "zerolinecolor": "white"
           }
          },
          "shapedefaults": {
           "line": {
            "color": "#2a3f5f"
           }
          },
          "ternary": {
           "aaxis": {
            "gridcolor": "white",
            "linecolor": "white",
            "ticks": ""
           },
           "baxis": {
            "gridcolor": "white",
            "linecolor": "white",
            "ticks": ""
           },
           "bgcolor": "#E5ECF6",
           "caxis": {
            "gridcolor": "white",
            "linecolor": "white",
            "ticks": ""
           }
          },
          "title": {
           "x": 0.05
          },
          "xaxis": {
           "automargin": true,
           "gridcolor": "white",
           "linecolor": "white",
           "ticks": "",
           "title": {
            "standoff": 15
           },
           "zerolinecolor": "white",
           "zerolinewidth": 2
          },
          "yaxis": {
           "automargin": true,
           "gridcolor": "white",
           "linecolor": "white",
           "ticks": "",
           "title": {
            "standoff": 15
           },
           "zerolinecolor": "white",
           "zerolinewidth": 2
          }
         }
        },
        "title": {
         "text": "Distribution of Distinct Symptoms Across Diseases"
        },
        "width": 800
       }
      }
     },
     "metadata": {},
     "output_type": "display_data"
    }
   ],
   "source": [
    "import pandas as pd\n",
    "import plotly.express as px\n",
    "\n",
    "# Load the dataset\n",
    "df = pd.read_csv('dataset_kaggle.csv')\n",
    "\n",
    "# Melt the dataframe to gather all symptom columns into a single column\n",
    "symptom_columns = [col for col in df.columns if col.startswith('Symptom')]\n",
    "melted_df = df.melt(id_vars=['Disease'], value_vars=symptom_columns, var_name='Symptom_Number', value_name='Symptom')\n",
    "\n",
    "# Drop rows where the symptom is NaN\n",
    "melted_df = melted_df.dropna(subset=['Symptom'])\n",
    "\n",
    "# Count the occurrence of each symptom across all diseases\n",
    "symptom_distribution = melted_df['Symptom'].value_counts().reset_index()\n",
    "symptom_distribution.columns = ['Symptom', 'Count']\n",
    "\n",
    "# Create an interactive pie chart\n",
    "fig = px.pie(\n",
    "    symptom_distribution,\n",
    "    names='Symptom',\n",
    "    values='Count',\n",
    "    title=\"Distribution of Distinct Symptoms Across Diseases\",\n",
    "    hover_data=['Count'],\n",
    "    labels={'Symptom':'Symptoms', 'Count':'Number of Instances'}\n",
    ")\n",
    "\n",
    "# Adjust the size of the pie chart to be manageable\n",
    "fig.update_traces(textposition='inside', textinfo='percent+label')\n",
    "fig.update_layout(\n",
    "    margin=dict(t=40, b=40, l=40, r=40),  # Adjust margins to keep the chart from being too big\n",
    "    height=600,  # Adjust the height\n",
    "    width=800  # Adjust the width\n",
    ")\n",
    "\n",
    "# Show the interactive pie chart\n",
    "fig.show()\n",
    "\n"
   ]
  },
  {
   "cell_type": "markdown",
   "id": "464bfa66-cd34-4a90-b1b9-bd2e1414cbcc",
   "metadata": {},
   "source": [
    "#### Correlation Matrix of Diseases"
   ]
  },
  {
   "cell_type": "code",
   "execution_count": 6,
   "id": "c26b5c0b-ae5f-4d16-b743-ab70c004e9d8",
   "metadata": {},
   "outputs": [
    {
     "data": {
      "image/png": "[encoded data removed]",
      "text/plain": [
       "<Figure size 1500x1000 with 2 Axes>"
      ]
     },
     "metadata": {},
     "output_type": "display_data"
    }
   ],
   "source": [
    "import seaborn as sns\n",
    "import numpy as np\n",
    "\n",
    "# Create a binary matrix where each symptom is a column and each disease is a row\n",
    "symptom_binary_matrix = pd.get_dummies(df.set_index('Disease').stack()).groupby(level=0).sum()\n",
    "\n",
    "# Calculate the correlation matrix\n",
    "disease_correlation = symptom_binary_matrix.T.corr()\n",
    "\n",
    "# Plot the correlation matrix\n",
    "plt.figure(figsize=(15, 10))\n",
    "sns.heatmap(\n",
    "    disease_correlation,\n",
    "    annot=False,  # Turn off annotations for a cleaner look\n",
    "    cmap='coolwarm',\n",
    "    linewidths=0.5,\n",
    "    square=True,\n",
    "    cbar_kws={\"shrink\": .5}\n",
    ")\n",
    "plt.title(\"Correlation Matrix of Diseases Based on Symptom Overlap\")\n",
    "plt.show()\n"
   ]
  },
  {
   "cell_type": "markdown",
   "id": "78706af7-6cfb-4efb-92db-4cbf86ca55be",
   "metadata": {},
   "source": [
    "## Model Training and Evaluation\n",
    "\n",
    "### MLP (Multi-Layer Perceptron)\n",
    "The MLP model is a type of neural network that is well-suited for tabular data, where each feature is independent of the others. It is a fully connected feedforward neural network that uses multiple layers to learn complex patterns in the data. This model is chosen for its simplicity and effectiveness in handling structured data.\n",
    "\n",
    "### CNN (Convolutional Neural Network)\n",
    "The CNN model is typically used for image data but can be adapted to tabular data to capture local patterns and spatial relationships. It includes convolutional layers that automatically detect the most important features in the data, making it powerful for capturing complex patterns. This model is chosen for its ability to identify patterns that might be missed by simpler models.\n",
    "\n",
    "### LSTM (Long Short-Term Memory)\n",
    "The LSTM model is a type of Recurrent Neural Network (RNN) that is particularly good at handling sequential data. Although typically used for time-series data, it can be adapted to consider the sequence of symptoms as a form of temporal data. This model is chosen for its ability to remember previous inputs, making it suitable for data where the order of features might matter.\n",
    "\n",
    "### Random Forest and Decision Tree\n",
    "The Random Forest and Decision Tree models are traditional machine learning models that are included for comparison. The Decision Tree model is simple and interpretable, while the Random Forest model is an ensemble method that can provide robust predictions by averaging the results of multiple decision trees.\n",
    " future use.\n"
   ]
  },
  {
   "cell_type": "markdown",
   "id": "4ae1af20-f142-41c1-a38f-6aacf61f06b8",
   "metadata": {},
   "source": [
    "## Prepare Data for Model Training"
   ]
  },
  {
   "cell_type": "code",
   "execution_count": 7,
   "id": "36e5a2dc-5433-443b-bc53-57232b3ebb01",
   "metadata": {},
   "outputs": [],
   "source": [
    "# Import Libraries\n",
    "\n",
    "from sklearn.preprocessing import OneHotEncoder, StandardScaler\n",
    "from sklearn.preprocessing import OneHotEncoder"
   ]
  },
  {
   "cell_type": "code",
   "execution_count": 8,
   "id": "a3f60af2-7636-4faf-b5a8-889a2213a9d9",
   "metadata": {},
   "outputs": [
    {
     "data": {
      "text/html": [
       "<div>\n",
       "<style scoped>\n",
       "    .dataframe tbody tr th:only-of-type {\n",
       "        vertical-align: middle;\n",
       "    }\n",
       "\n",
       "    .dataframe tbody tr th {\n",
       "        vertical-align: top;\n",
       "    }\n",
       "\n",
       "    .dataframe thead th {\n",
       "        text-align: right;\n",
       "    }\n",
       "</style>\n",
       "<table border=\"1\" class=\"dataframe\">\n",
       "  <thead>\n",
       "    <tr style=\"text-align: right;\">\n",
       "      <th></th>\n",
       "      <th>Disease</th>\n",
       "      <th>Symptom_1_Aura</th>\n",
       "      <th>Symptom_1_Bleeding mole</th>\n",
       "      <th>Symptom_1_Blood in stool</th>\n",
       "      <th>Symptom_1_Bowel issues</th>\n",
       "      <th>Symptom_1_Burning</th>\n",
       "      <th>Symptom_1_Change in bowel habits</th>\n",
       "      <th>Symptom_1_Chest pain</th>\n",
       "      <th>Symptom_1_Difficulty sleeping</th>\n",
       "      <th>Symptom_1_Difficulty walking</th>\n",
       "      <th>...</th>\n",
       "      <th>Symptom_17_Pigment spread</th>\n",
       "      <th>Symptom_17_Shortness of breath</th>\n",
       "      <th>Symptom_17_Skin changes</th>\n",
       "      <th>Symptom_17_Sore that doesn’t heal</th>\n",
       "      <th>Symptom_17_Swollen lymph nodes</th>\n",
       "      <th>Symptom_17_Tenderness</th>\n",
       "      <th>Symptom_17_Thickened skin</th>\n",
       "      <th>Symptom_17_Tophi</th>\n",
       "      <th>Symptom_17_Vomiting</th>\n",
       "      <th>Symptom_17_Weakness</th>\n",
       "    </tr>\n",
       "  </thead>\n",
       "  <tbody>\n",
       "    <tr>\n",
       "      <th>0</th>\n",
       "      <td>Leukemia</td>\n",
       "      <td>-0.086929</td>\n",
       "      <td>-0.100504</td>\n",
       "      <td>-0.319262</td>\n",
       "      <td>-0.217072</td>\n",
       "      <td>-0.100504</td>\n",
       "      <td>-0.070888</td>\n",
       "      <td>-0.050063</td>\n",
       "      <td>-0.112509</td>\n",
       "      <td>-0.050063</td>\n",
       "      <td>...</td>\n",
       "      <td>-0.050063</td>\n",
       "      <td>-0.43237</td>\n",
       "      <td>-0.050063</td>\n",
       "      <td>-0.468521</td>\n",
       "      <td>-0.100504</td>\n",
       "      <td>-0.050063</td>\n",
       "      <td>-0.217072</td>\n",
       "      <td>-0.070888</td>\n",
       "      <td>-0.050063</td>\n",
       "      <td>-0.050063</td>\n",
       "    </tr>\n",
       "    <tr>\n",
       "      <th>1</th>\n",
       "      <td>Melanoma</td>\n",
       "      <td>-0.086929</td>\n",
       "      <td>-0.100504</td>\n",
       "      <td>-0.319262</td>\n",
       "      <td>-0.217072</td>\n",
       "      <td>-0.100504</td>\n",
       "      <td>-0.070888</td>\n",
       "      <td>-0.050063</td>\n",
       "      <td>-0.112509</td>\n",
       "      <td>-0.050063</td>\n",
       "      <td>...</td>\n",
       "      <td>-0.050063</td>\n",
       "      <td>-0.43237</td>\n",
       "      <td>-0.050063</td>\n",
       "      <td>2.134375</td>\n",
       "      <td>-0.100504</td>\n",
       "      <td>-0.050063</td>\n",
       "      <td>-0.217072</td>\n",
       "      <td>-0.070888</td>\n",
       "      <td>-0.050063</td>\n",
       "      <td>-0.050063</td>\n",
       "    </tr>\n",
       "    <tr>\n",
       "      <th>2</th>\n",
       "      <td>Bronchitis</td>\n",
       "      <td>-0.086929</td>\n",
       "      <td>-0.100504</td>\n",
       "      <td>-0.319262</td>\n",
       "      <td>-0.217072</td>\n",
       "      <td>-0.100504</td>\n",
       "      <td>-0.070888</td>\n",
       "      <td>-0.050063</td>\n",
       "      <td>-0.112509</td>\n",
       "      <td>-0.050063</td>\n",
       "      <td>...</td>\n",
       "      <td>-0.050063</td>\n",
       "      <td>-0.43237</td>\n",
       "      <td>-0.050063</td>\n",
       "      <td>-0.468521</td>\n",
       "      <td>-0.100504</td>\n",
       "      <td>-0.050063</td>\n",
       "      <td>-0.217072</td>\n",
       "      <td>-0.070888</td>\n",
       "      <td>-0.050063</td>\n",
       "      <td>-0.050063</td>\n",
       "    </tr>\n",
       "    <tr>\n",
       "      <th>3</th>\n",
       "      <td>Cancer</td>\n",
       "      <td>-0.086929</td>\n",
       "      <td>-0.100504</td>\n",
       "      <td>-0.319262</td>\n",
       "      <td>-0.217072</td>\n",
       "      <td>-0.100504</td>\n",
       "      <td>-0.070888</td>\n",
       "      <td>-0.050063</td>\n",
       "      <td>-0.112509</td>\n",
       "      <td>-0.050063</td>\n",
       "      <td>...</td>\n",
       "      <td>-0.050063</td>\n",
       "      <td>-0.43237</td>\n",
       "      <td>-0.050063</td>\n",
       "      <td>-0.468521</td>\n",
       "      <td>-0.100504</td>\n",
       "      <td>-0.050063</td>\n",
       "      <td>4.606758</td>\n",
       "      <td>-0.070888</td>\n",
       "      <td>-0.050063</td>\n",
       "      <td>-0.050063</td>\n",
       "    </tr>\n",
       "    <tr>\n",
       "      <th>4</th>\n",
       "      <td>Cancer</td>\n",
       "      <td>-0.086929</td>\n",
       "      <td>-0.100504</td>\n",
       "      <td>-0.319262</td>\n",
       "      <td>-0.217072</td>\n",
       "      <td>-0.100504</td>\n",
       "      <td>-0.070888</td>\n",
       "      <td>-0.050063</td>\n",
       "      <td>-0.112509</td>\n",
       "      <td>-0.050063</td>\n",
       "      <td>...</td>\n",
       "      <td>-0.050063</td>\n",
       "      <td>-0.43237</td>\n",
       "      <td>-0.050063</td>\n",
       "      <td>2.134375</td>\n",
       "      <td>-0.100504</td>\n",
       "      <td>-0.050063</td>\n",
       "      <td>-0.217072</td>\n",
       "      <td>-0.070888</td>\n",
       "      <td>-0.050063</td>\n",
       "      <td>-0.050063</td>\n",
       "    </tr>\n",
       "  </tbody>\n",
       "</table>\n",
       "<p>5 rows × 677 columns</p>\n",
       "</div>"
      ],
      "text/plain": [
       "      Disease  Symptom_1_Aura  Symptom_1_Bleeding mole  \\\n",
       "0    Leukemia       -0.086929                -0.100504   \n",
       "1    Melanoma       -0.086929                -0.100504   \n",
       "2  Bronchitis       -0.086929                -0.100504   \n",
       "3      Cancer       -0.086929                -0.100504   \n",
       "4      Cancer       -0.086929                -0.100504   \n",
       "\n",
       "   Symptom_1_Blood in stool  Symptom_1_Bowel issues  Symptom_1_Burning  \\\n",
       "0                 -0.319262               -0.217072          -0.100504   \n",
       "1                 -0.319262               -0.217072          -0.100504   \n",
       "2                 -0.319262               -0.217072          -0.100504   \n",
       "3                 -0.319262               -0.217072          -0.100504   \n",
       "4                 -0.319262               -0.217072          -0.100504   \n",
       "\n",
       "   Symptom_1_Change in bowel habits  Symptom_1_Chest pain  \\\n",
       "0                         -0.070888             -0.050063   \n",
       "1                         -0.070888             -0.050063   \n",
       "2                         -0.070888             -0.050063   \n",
       "3                         -0.070888             -0.050063   \n",
       "4                         -0.070888             -0.050063   \n",
       "\n",
       "   Symptom_1_Difficulty sleeping  Symptom_1_Difficulty walking  ...  \\\n",
       "0                      -0.112509                     -0.050063  ...   \n",
       "1                      -0.112509                     -0.050063  ...   \n",
       "2                      -0.112509                     -0.050063  ...   \n",
       "3                      -0.112509                     -0.050063  ...   \n",
       "4                      -0.112509                     -0.050063  ...   \n",
       "\n",
       "   Symptom_17_Pigment spread  Symptom_17_Shortness of breath  \\\n",
       "0                  -0.050063                        -0.43237   \n",
       "1                  -0.050063                        -0.43237   \n",
       "2                  -0.050063                        -0.43237   \n",
       "3                  -0.050063                        -0.43237   \n",
       "4                  -0.050063                        -0.43237   \n",
       "\n",
       "   Symptom_17_Skin changes  Symptom_17_Sore that doesn’t heal  \\\n",
       "0                -0.050063                          -0.468521   \n",
       "1                -0.050063                           2.134375   \n",
       "2                -0.050063                          -0.468521   \n",
       "3                -0.050063                          -0.468521   \n",
       "4                -0.050063                           2.134375   \n",
       "\n",
       "   Symptom_17_Swollen lymph nodes  Symptom_17_Tenderness  \\\n",
       "0                       -0.100504              -0.050063   \n",
       "1                       -0.100504              -0.050063   \n",
       "2                       -0.100504              -0.050063   \n",
       "3                       -0.100504              -0.050063   \n",
       "4                       -0.100504              -0.050063   \n",
       "\n",
       "   Symptom_17_Thickened skin  Symptom_17_Tophi  Symptom_17_Vomiting  \\\n",
       "0                  -0.217072         -0.070888            -0.050063   \n",
       "1                  -0.217072         -0.070888            -0.050063   \n",
       "2                  -0.217072         -0.070888            -0.050063   \n",
       "3                   4.606758         -0.070888            -0.050063   \n",
       "4                  -0.217072         -0.070888            -0.050063   \n",
       "\n",
       "   Symptom_17_Weakness  \n",
       "0            -0.050063  \n",
       "1            -0.050063  \n",
       "2            -0.050063  \n",
       "3            -0.050063  \n",
       "4            -0.050063  \n",
       "\n",
       "[5 rows x 677 columns]"
      ]
     },
     "execution_count": 8,
     "metadata": {},
     "output_type": "execute_result"
    }
   ],
   "source": [
    "# Encode categorical symptoms using one-hot encoding\n",
    "symptom_columns = df.columns[1:]\n",
    "onehot_encoder = OneHotEncoder(sparse_output=False, handle_unknown='ignore')\n",
    "encoded_symptoms = onehot_encoder.fit_transform(df[symptom_columns])\n",
    "\n",
    "# Normalize the encoded data\n",
    "scaler = StandardScaler()\n",
    "normalized_symptoms = scaler.fit_transform(encoded_symptoms)\n",
    "\n",
    "# Convert normalized symptoms back to DataFrame\n",
    "encoded_df = pd.DataFrame(normalized_symptoms, columns=onehot_encoder.get_feature_names_out(symptom_columns))\n",
    "\n",
    "# Concatenate the encoded symptoms with the disease column\n",
    "preprocessed_df = pd.concat([df[['Disease']].reset_index(drop=True), encoded_df], axis=1)\n",
    "\n",
    "# Display the first few rows of the preprocessed dataset\n",
    "preprocessed_df.head()"
   ]
  },
  {
   "cell_type": "markdown",
   "id": "939af472-535f-45fa-a724-2107b061c2d8",
   "metadata": {},
   "source": [
    "## Model Selection and Training"
   ]
  },
  {
   "cell_type": "markdown",
   "id": "e6ecdebb-7bbd-40a7-ae5e-320eec63bcfc",
   "metadata": {},
   "source": [
    "### Multi-Layer Perceptron (MLP)\n",
    "**Pro:** Simple and effective for structured data, such as tables with fixed columns (like symptoms).\n",
    "\n",
    "**Con:** Struggles with spatial or sequential relationships in data.\n",
    "\n",
    "**Use Case:** Best for datasets where each input feature (e.g., symptom) is independent of others."
   ]
  },
  {
   "cell_type": "code",
   "execution_count": 9,
   "id": "f89e5375-8eed-4b85-bd86-4a691e5f36eb",
   "metadata": {},
   "outputs": [],
   "source": [
    "# Import libraries\n",
    "from tensorflow.keras.models import Sequential\n",
    "from tensorflow.keras.layers import Dense\n",
    "import tensorflow as tf"
   ]
  },
  {
   "cell_type": "code",
   "execution_count": 10,
   "id": "80266ab8-e0f0-4734-9f53-ce03bde085a3",
   "metadata": {},
   "outputs": [
    {
     "name": "stdout",
     "output_type": "stream",
     "text": [
      "Epoch 1/20\n",
      "\u001b[1m10/10\u001b[0m \u001b[32m━━━━━━━━━━━━━━━━━━━━\u001b[0m\u001b[37m\u001b[0m \u001b[1m2s\u001b[0m 36ms/step - accuracy: 0.0065 - loss: 3.9845 - val_accuracy: 0.0250 - val_loss: 3.9763\n",
      "Epoch 2/20\n",
      "\u001b[1m10/10\u001b[0m \u001b[32m━━━━━━━━━━━━━━━━━━━━\u001b[0m\u001b[37m\u001b[0m \u001b[1m0s\u001b[0m 19ms/step - accuracy: 0.1806 - loss: 3.2723 - val_accuracy: 0.0250 - val_loss: 3.9756\n",
      "Epoch 3/20\n",
      "\u001b[1m10/10\u001b[0m \u001b[32m━━━━━━━━━━━━━━━━━━━━\u001b[0m\u001b[37m\u001b[0m \u001b[1m0s\u001b[0m 10ms/step - accuracy: 0.5281 - loss: 2.7390 - val_accuracy: 0.0250 - val_loss: 4.0184\n",
      "Epoch 4/20\n",
      "\u001b[1m10/10\u001b[0m \u001b[32m━━━━━━━━━━━━━━━━━━━━\u001b[0m\u001b[37m\u001b[0m \u001b[1m0s\u001b[0m 10ms/step - accuracy: 0.7208 - loss: 2.2755 - val_accuracy: 0.0250 - val_loss: 4.0736\n",
      "Epoch 5/20\n",
      "\u001b[1m10/10\u001b[0m \u001b[32m━━━━━━━━━━━━━━━━━━━━\u001b[0m\u001b[37m\u001b[0m \u001b[1m0s\u001b[0m 10ms/step - accuracy: 0.8950 - loss: 1.7938 - val_accuracy: 0.0125 - val_loss: 4.1293\n",
      "Epoch 6/20\n",
      "\u001b[1m10/10\u001b[0m \u001b[32m━━━━━━━━━━━━━━━━━━━━\u001b[0m\u001b[37m\u001b[0m \u001b[1m0s\u001b[0m 12ms/step - accuracy: 0.9477 - loss: 1.3580 - val_accuracy: 0.0125 - val_loss: 4.1658\n",
      "Epoch 7/20\n",
      "\u001b[1m10/10\u001b[0m \u001b[32m━━━━━━━━━━━━━━━━━━━━\u001b[0m\u001b[37m\u001b[0m \u001b[1m0s\u001b[0m 11ms/step - accuracy: 0.9611 - loss: 1.0071 - val_accuracy: 0.0000e+00 - val_loss: 4.2219\n",
      "Epoch 8/20\n",
      "\u001b[1m10/10\u001b[0m \u001b[32m━━━━━━━━━━━━━━━━━━━━\u001b[0m\u001b[37m\u001b[0m \u001b[1m0s\u001b[0m 10ms/step - accuracy: 0.9822 - loss: 0.6553 - val_accuracy: 0.0125 - val_loss: 4.2688\n",
      "Epoch 9/20\n",
      "\u001b[1m10/10\u001b[0m \u001b[32m━━━━━━━━━━━━━━━━━━━━\u001b[0m\u001b[37m\u001b[0m \u001b[1m0s\u001b[0m 11ms/step - accuracy: 1.0000 - loss: 0.3982 - val_accuracy: 0.0250 - val_loss: 4.3044\n",
      "Epoch 10/20\n",
      "\u001b[1m10/10\u001b[0m \u001b[32m━━━━━━━━━━━━━━━━━━━━\u001b[0m\u001b[37m\u001b[0m \u001b[1m0s\u001b[0m 11ms/step - accuracy: 1.0000 - loss: 0.2800 - val_accuracy: 0.0250 - val_loss: 4.3243\n",
      "Epoch 11/20\n",
      "\u001b[1m10/10\u001b[0m \u001b[32m━━━━━━━━━━━━━━━━━━━━\u001b[0m\u001b[37m\u001b[0m \u001b[1m0s\u001b[0m 10ms/step - accuracy: 1.0000 - loss: 0.1873 - val_accuracy: 0.0250 - val_loss: 4.3612\n",
      "Epoch 12/20\n",
      "\u001b[1m10/10\u001b[0m \u001b[32m━━━━━━━━━━━━━━━━━━━━\u001b[0m\u001b[37m\u001b[0m \u001b[1m0s\u001b[0m 11ms/step - accuracy: 1.0000 - loss: 0.1203 - val_accuracy: 0.0250 - val_loss: 4.3897\n",
      "Epoch 13/20\n",
      "\u001b[1m10/10\u001b[0m \u001b[32m━━━━━━━━━━━━━━━━━━━━\u001b[0m\u001b[37m\u001b[0m \u001b[1m0s\u001b[0m 10ms/step - accuracy: 1.0000 - loss: 0.0890 - val_accuracy: 0.0375 - val_loss: 4.4148\n",
      "Epoch 14/20\n",
      "\u001b[1m10/10\u001b[0m \u001b[32m━━━━━━━━━━━━━━━━━━━━\u001b[0m\u001b[37m\u001b[0m \u001b[1m0s\u001b[0m 11ms/step - accuracy: 1.0000 - loss: 0.0663 - val_accuracy: 0.0375 - val_loss: 4.4373\n",
      "Epoch 15/20\n",
      "\u001b[1m10/10\u001b[0m \u001b[32m━━━━━━━━━━━━━━━━━━━━\u001b[0m\u001b[37m\u001b[0m \u001b[1m0s\u001b[0m 10ms/step - accuracy: 1.0000 - loss: 0.0473 - val_accuracy: 0.0375 - val_loss: 4.4560\n",
      "Epoch 16/20\n",
      "\u001b[1m10/10\u001b[0m \u001b[32m━━━━━━━━━━━━━━━━━━━━\u001b[0m\u001b[37m\u001b[0m \u001b[1m0s\u001b[0m 10ms/step - accuracy: 1.0000 - loss: 0.0409 - val_accuracy: 0.0375 - val_loss: 4.4766\n",
      "Epoch 17/20\n",
      "\u001b[1m10/10\u001b[0m \u001b[32m━━━━━━━━━━━━━━━━━━━━\u001b[0m\u001b[37m\u001b[0m \u001b[1m0s\u001b[0m 11ms/step - accuracy: 1.0000 - loss: 0.0360 - val_accuracy: 0.0375 - val_loss: 4.4914\n",
      "Epoch 18/20\n",
      "\u001b[1m10/10\u001b[0m \u001b[32m━━━━━━━━━━━━━━━━━━━━\u001b[0m\u001b[37m\u001b[0m \u001b[1m0s\u001b[0m 11ms/step - accuracy: 1.0000 - loss: 0.0308 - val_accuracy: 0.0375 - val_loss: 4.5070\n",
      "Epoch 19/20\n",
      "\u001b[1m10/10\u001b[0m \u001b[32m━━━━━━━━━━━━━━━━━━━━\u001b[0m\u001b[37m\u001b[0m \u001b[1m0s\u001b[0m 11ms/step - accuracy: 1.0000 - loss: 0.0260 - val_accuracy: 0.0375 - val_loss: 4.5203\n",
      "Epoch 20/20\n",
      "\u001b[1m10/10\u001b[0m \u001b[32m━━━━━━━━━━━━━━━━━━━━\u001b[0m\u001b[37m\u001b[0m \u001b[1m0s\u001b[0m 10ms/step - accuracy: 1.0000 - loss: 0.0218 - val_accuracy: 0.0375 - val_loss: 4.5322\n"
     ]
    },
    {
     "data": {
      "text/plain": [
       "{'accuracy': [0.00937500037252903,\n",
       "  0.21875,\n",
       "  0.550000011920929,\n",
       "  0.7562500238418579,\n",
       "  0.90625,\n",
       "  0.953125,\n",
       "  0.9781249761581421,\n",
       "  0.9906250238418579,\n",
       "  1.0,\n",
       "  1.0,\n",
       "  1.0,\n",
       "  1.0,\n",
       "  1.0,\n",
       "  1.0,\n",
       "  1.0,\n",
       "  1.0,\n",
       "  1.0,\n",
       "  1.0,\n",
       "  1.0,\n",
       "  1.0],\n",
       " 'loss': [3.918325901031494,\n",
       "  3.180269241333008,\n",
       "  2.6702256202697754,\n",
       "  2.201097249984741,\n",
       "  1.7402546405792236,\n",
       "  1.3009145259857178,\n",
       "  0.925093948841095,\n",
       "  0.6176133155822754,\n",
       "  0.40254178643226624,\n",
       "  0.25998228788375854,\n",
       "  0.1705079972743988,\n",
       "  0.11525348573923111,\n",
       "  0.08339162915945053,\n",
       "  0.06306405365467072,\n",
       "  0.049390822649002075,\n",
       "  0.040724899619817734,\n",
       "  0.03422227129340172,\n",
       "  0.029187574982643127,\n",
       "  0.02529984340071678,\n",
       "  0.02222294546663761],\n",
       " 'val_accuracy': [0.02500000037252903,\n",
       "  0.02500000037252903,\n",
       "  0.02500000037252903,\n",
       "  0.02500000037252903,\n",
       "  0.012500000186264515,\n",
       "  0.012500000186264515,\n",
       "  0.0,\n",
       "  0.012500000186264515,\n",
       "  0.02500000037252903,\n",
       "  0.02500000037252903,\n",
       "  0.02500000037252903,\n",
       "  0.02500000037252903,\n",
       "  0.03750000149011612,\n",
       "  0.03750000149011612,\n",
       "  0.03750000149011612,\n",
       "  0.03750000149011612,\n",
       "  0.03750000149011612,\n",
       "  0.03750000149011612,\n",
       "  0.03750000149011612,\n",
       "  0.03750000149011612],\n",
       " 'val_loss': [3.976311445236206,\n",
       "  3.9755873680114746,\n",
       "  4.018436908721924,\n",
       "  4.073584079742432,\n",
       "  4.129336357116699,\n",
       "  4.16583251953125,\n",
       "  4.221938133239746,\n",
       "  4.2688069343566895,\n",
       "  4.304427623748779,\n",
       "  4.324278831481934,\n",
       "  4.361166954040527,\n",
       "  4.389679908752441,\n",
       "  4.414797782897949,\n",
       "  4.437304496765137,\n",
       "  4.456023216247559,\n",
       "  4.476641654968262,\n",
       "  4.491422176361084,\n",
       "  4.507027626037598,\n",
       "  4.520300388336182,\n",
       "  4.532238006591797]}"
      ]
     },
     "execution_count": 10,
     "metadata": {},
     "output_type": "execute_result"
    }
   ],
   "source": [
    "# Encode the 'Disease' column into one-hot vectors\n",
    "onehot_encoder = OneHotEncoder(sparse_output=False)\n",
    "y = onehot_encoder.fit_transform(preprocessed_df[['Disease']])\n",
    "\n",
    "# Correct the number of output units to match the number of unique diseases\n",
    "mlp_model = Sequential([\n",
    "    tf.keras.layers.Input(shape=(preprocessed_df.shape[1] - 1,)),  # Input layer\n",
    "    Dense(128, activation='relu'),  # Hidden layer\n",
    "    Dense(64, activation='relu'),  # Hidden layer\n",
    "    Dense(y.shape[1], activation='softmax')  # Output layer for multi-class classification\n",
    "])\n",
    "\n",
    "# Compile the model\n",
    "mlp_model.compile(optimizer='adam', loss='categorical_crossentropy', metrics=['accuracy'])\n",
    "\n",
    "# Separate features and labels\n",
    "X = preprocessed_df.drop('Disease', axis=1)\n",
    "\n",
    "# Train the model\n",
    "mlp_history = mlp_model.fit(X, y, epochs=20, validation_split=0.2, batch_size=32)\n",
    "\n",
    "# Display the training and validation accuracy/loss\n",
    "mlp_history.history\n"
   ]
  },
  {
   "cell_type": "code",
   "execution_count": 11,
   "id": "a77a1b9d-25c1-49a6-adba-8826135859b1",
   "metadata": {},
   "outputs": [
    {
     "name": "stdout",
     "output_type": "stream",
     "text": [
      "\u001b[1m13/13\u001b[0m \u001b[32m━━━━━━━━━━━━━━━━━━━━\u001b[0m\u001b[37m\u001b[0m \u001b[1m0s\u001b[0m 3ms/step - accuracy: 0.9551 - loss: 0.2367 \n",
      "Test Accuracy: 0.8075000047683716\n",
      "Test Loss: 0.9228927493095398\n"
     ]
    }
   ],
   "source": [
    "# Evaluate the model on the test set\n",
    "test_loss, test_accuracy = mlp_model.evaluate(X, y)\n",
    "\n",
    "# Display the test accuracy and loss\n",
    "print(f\"Test Accuracy: {test_accuracy}\")\n",
    "print(f\"Test Loss: {test_loss}\")\n"
   ]
  },
  {
   "cell_type": "markdown",
   "id": "49f2de6e-574d-4db0-ada7-cefb0a39973b",
   "metadata": {},
   "source": [
    "## Convolutional Neural Network (CNN) for Text Model Summary\n",
    "**Pro:** Effective at capturing local patterns in data, particularly useful for text classification tasks where specific word sequences are important.\n",
    "\n",
    "**Con:** Computationally intensive, especially with larger datasets or deeper networks.\n",
    "\n",
    "**Use Case:** Ideal for tasks where local dependencies or patterns in symptoms can indicate specific diseases."
   ]
  },
  {
   "cell_type": "code",
   "execution_count": 12,
   "id": "86e2971b-93cf-4417-be3b-6a9763093918",
   "metadata": {},
   "outputs": [],
   "source": [
    "#Import libraries\n",
    "from tensorflow.keras.layers import Conv1D, MaxPooling1D, Flatten"
   ]
  },
  {
   "cell_type": "code",
   "execution_count": 13,
   "id": "ed2f78e5-4df4-4d9d-9765-e3a2b063f8f2",
   "metadata": {},
   "outputs": [
    {
     "name": "stdout",
     "output_type": "stream",
     "text": [
      "Epoch 1/20\n",
      "\u001b[1m10/10\u001b[0m \u001b[32m━━━━━━━━━━━━━━━━━━━━\u001b[0m\u001b[37m\u001b[0m \u001b[1m2s\u001b[0m 81ms/step - accuracy: 0.0071 - loss: 3.7585 - val_accuracy: 0.0375 - val_loss: 3.7516\n",
      "Epoch 2/20\n",
      "\u001b[1m10/10\u001b[0m \u001b[32m━━━━━━━━━━━━━━━━━━━━\u001b[0m\u001b[37m\u001b[0m \u001b[1m0s\u001b[0m 42ms/step - accuracy: 0.4179 - loss: 2.9927 - val_accuracy: 0.0500 - val_loss: 3.8658\n",
      "Epoch 3/20\n",
      "\u001b[1m10/10\u001b[0m \u001b[32m━━━━━━━━━━━━━━━━━━━━\u001b[0m\u001b[37m\u001b[0m \u001b[1m0s\u001b[0m 42ms/step - accuracy: 0.7148 - loss: 1.8139 - val_accuracy: 0.0375 - val_loss: 4.4502\n",
      "Epoch 4/20\n",
      "\u001b[1m10/10\u001b[0m \u001b[32m━━━━━━━━━━━━━━━━━━━━\u001b[0m\u001b[37m\u001b[0m \u001b[1m0s\u001b[0m 42ms/step - accuracy: 0.8921 - loss: 0.7829 - val_accuracy: 0.0625 - val_loss: 4.7761\n",
      "Epoch 5/20\n",
      "\u001b[1m10/10\u001b[0m \u001b[32m━━━━━━━━━━━━━━━━━━━━\u001b[0m\u001b[37m\u001b[0m \u001b[1m0s\u001b[0m 48ms/step - accuracy: 0.9854 - loss: 0.2191 - val_accuracy: 0.0500 - val_loss: 5.3506\n",
      "Epoch 6/20\n",
      "\u001b[1m10/10\u001b[0m \u001b[32m━━━━━━━━━━━━━━━━━━━━\u001b[0m\u001b[37m\u001b[0m \u001b[1m0s\u001b[0m 42ms/step - accuracy: 0.9979 - loss: 0.0621 - val_accuracy: 0.0875 - val_loss: 5.8141\n",
      "Epoch 7/20\n",
      "\u001b[1m10/10\u001b[0m \u001b[32m━━━━━━━━━━━━━━━━━━━━\u001b[0m\u001b[37m\u001b[0m \u001b[1m1s\u001b[0m 59ms/step - accuracy: 1.0000 - loss: 0.0236 - val_accuracy: 0.0750 - val_loss: 6.1111\n",
      "Epoch 8/20\n",
      "\u001b[1m10/10\u001b[0m \u001b[32m━━━━━━━━━━━━━━━━━━━━\u001b[0m\u001b[37m\u001b[0m \u001b[1m0s\u001b[0m 42ms/step - accuracy: 1.0000 - loss: 0.0084 - val_accuracy: 0.0625 - val_loss: 6.2965\n",
      "Epoch 9/20\n",
      "\u001b[1m10/10\u001b[0m \u001b[32m━━━━━━━━━━━━━━━━━━━━\u001b[0m\u001b[37m\u001b[0m \u001b[1m1s\u001b[0m 50ms/step - accuracy: 1.0000 - loss: 0.0050 - val_accuracy: 0.0625 - val_loss: 6.4309\n",
      "Epoch 10/20\n",
      "\u001b[1m10/10\u001b[0m \u001b[32m━━━━━━━━━━━━━━━━━━━━\u001b[0m\u001b[37m\u001b[0m \u001b[1m1s\u001b[0m 51ms/step - accuracy: 1.0000 - loss: 0.0035 - val_accuracy: 0.0500 - val_loss: 6.5417\n",
      "Epoch 11/20\n",
      "\u001b[1m10/10\u001b[0m \u001b[32m━━━━━━━━━━━━━━━━━━━━\u001b[0m\u001b[37m\u001b[0m \u001b[1m0s\u001b[0m 47ms/step - accuracy: 1.0000 - loss: 0.0030 - val_accuracy: 0.0625 - val_loss: 6.6271\n",
      "Epoch 12/20\n",
      "\u001b[1m10/10\u001b[0m \u001b[32m━━━━━━━━━━━━━━━━━━━━\u001b[0m\u001b[37m\u001b[0m \u001b[1m1s\u001b[0m 70ms/step - accuracy: 1.0000 - loss: 0.0022 - val_accuracy: 0.0625 - val_loss: 6.6902\n",
      "Epoch 13/20\n",
      "\u001b[1m10/10\u001b[0m \u001b[32m━━━━━━━━━━━━━━━━━━━━\u001b[0m\u001b[37m\u001b[0m \u001b[1m0s\u001b[0m 43ms/step - accuracy: 1.0000 - loss: 0.0020 - val_accuracy: 0.0625 - val_loss: 6.7508\n",
      "Epoch 14/20\n",
      "\u001b[1m10/10\u001b[0m \u001b[32m━━━━━━━━━━━━━━━━━━━━\u001b[0m\u001b[37m\u001b[0m \u001b[1m0s\u001b[0m 46ms/step - accuracy: 1.0000 - loss: 0.0020 - val_accuracy: 0.0750 - val_loss: 6.8119\n",
      "Epoch 15/20\n",
      "\u001b[1m10/10\u001b[0m \u001b[32m━━━━━━━━━━━━━━━━━━━━\u001b[0m\u001b[37m\u001b[0m \u001b[1m0s\u001b[0m 43ms/step - accuracy: 1.0000 - loss: 0.0017 - val_accuracy: 0.0750 - val_loss: 6.8621\n",
      "Epoch 16/20\n",
      "\u001b[1m10/10\u001b[0m \u001b[32m━━━━━━━━━━━━━━━━━━━━\u001b[0m\u001b[37m\u001b[0m \u001b[1m0s\u001b[0m 42ms/step - accuracy: 1.0000 - loss: 0.0015 - val_accuracy: 0.0750 - val_loss: 6.9112\n",
      "Epoch 17/20\n",
      "\u001b[1m10/10\u001b[0m \u001b[32m━━━━━━━━━━━━━━━━━━━━\u001b[0m\u001b[37m\u001b[0m \u001b[1m0s\u001b[0m 43ms/step - accuracy: 1.0000 - loss: 0.0013 - val_accuracy: 0.0750 - val_loss: 6.9541\n",
      "Epoch 18/20\n",
      "\u001b[1m10/10\u001b[0m \u001b[32m━━━━━━━━━━━━━━━━━━━━\u001b[0m\u001b[37m\u001b[0m \u001b[1m0s\u001b[0m 42ms/step - accuracy: 1.0000 - loss: 0.0012 - val_accuracy: 0.0750 - val_loss: 7.0008\n",
      "Epoch 19/20\n",
      "\u001b[1m10/10\u001b[0m \u001b[32m━━━━━━━━━━━━━━━━━━━━\u001b[0m\u001b[37m\u001b[0m \u001b[1m0s\u001b[0m 43ms/step - accuracy: 1.0000 - loss: 0.0012 - val_accuracy: 0.0750 - val_loss: 7.0450\n",
      "Epoch 20/20\n",
      "\u001b[1m10/10\u001b[0m \u001b[32m━━━━━━━━━━━━━━━━━━━━\u001b[0m\u001b[37m\u001b[0m \u001b[1m0s\u001b[0m 42ms/step - accuracy: 1.0000 - loss: 0.0011 - val_accuracy: 0.0750 - val_loss: 7.0882\n"
     ]
    },
    {
     "data": {
      "text/plain": [
       "{'accuracy': [0.012500000186264515,\n",
       "  0.47187501192092896,\n",
       "  0.6937500238418579,\n",
       "  0.875,\n",
       "  0.981249988079071,\n",
       "  0.996874988079071,\n",
       "  1.0,\n",
       "  1.0,\n",
       "  1.0,\n",
       "  1.0,\n",
       "  1.0,\n",
       "  1.0,\n",
       "  1.0,\n",
       "  1.0,\n",
       "  1.0,\n",
       "  1.0,\n",
       "  1.0,\n",
       "  1.0,\n",
       "  1.0,\n",
       "  1.0],\n",
       " 'loss': [3.784592390060425,\n",
       "  2.8018105030059814,\n",
       "  1.7073065042495728,\n",
       "  0.7629505395889282,\n",
       "  0.2209712266921997,\n",
       "  0.053819913417100906,\n",
       "  0.01744653843343258,\n",
       "  0.007237976882606745,\n",
       "  0.004581259563565254,\n",
       "  0.0034134681336581707,\n",
       "  0.00279629067517817,\n",
       "  0.002367418957874179,\n",
       "  0.002073692623525858,\n",
       "  0.001845832564868033,\n",
       "  0.0016481963684782386,\n",
       "  0.0014838598435744643,\n",
       "  0.001345131080597639,\n",
       "  0.0012277236673980951,\n",
       "  0.0011271244147792459,\n",
       "  0.0010386451613157988],\n",
       " 'val_accuracy': [0.03750000149011612,\n",
       "  0.05000000074505806,\n",
       "  0.03750000149011612,\n",
       "  0.0625,\n",
       "  0.05000000074505806,\n",
       "  0.08749999850988388,\n",
       "  0.07500000298023224,\n",
       "  0.0625,\n",
       "  0.0625,\n",
       "  0.05000000074505806,\n",
       "  0.0625,\n",
       "  0.0625,\n",
       "  0.0625,\n",
       "  0.07500000298023224,\n",
       "  0.07500000298023224,\n",
       "  0.07500000298023224,\n",
       "  0.07500000298023224,\n",
       "  0.07500000298023224,\n",
       "  0.07500000298023224,\n",
       "  0.07500000298023224],\n",
       " 'val_loss': [3.751572847366333,\n",
       "  3.865797519683838,\n",
       "  4.450203895568848,\n",
       "  4.776078701019287,\n",
       "  5.350588321685791,\n",
       "  5.8140764236450195,\n",
       "  6.11106014251709,\n",
       "  6.296545505523682,\n",
       "  6.4309258460998535,\n",
       "  6.54171085357666,\n",
       "  6.627102851867676,\n",
       "  6.690249443054199,\n",
       "  6.750799655914307,\n",
       "  6.81191873550415,\n",
       "  6.862067222595215,\n",
       "  6.911153316497803,\n",
       "  6.954140663146973,\n",
       "  7.000769138336182,\n",
       "  7.045010566711426,\n",
       "  7.088168144226074]}"
      ]
     },
     "execution_count": 13,
     "metadata": {},
     "output_type": "execute_result"
    }
   ],
   "source": [
    "# Define the CNN model structure\n",
    "cnn_model = Sequential([\n",
    "    tf.keras.layers.Input(shape=(preprocessed_df.shape[1] - 1, 1)),  # Input layer\n",
    "    Conv1D(64, kernel_size=3, activation='relu'),  # Convolutional layer\n",
    "    MaxPooling1D(pool_size=2),  # Max pooling layer\n",
    "    Flatten(),  # Flattening layer to convert to 1D\n",
    "    Dense(128, activation='relu'),  # Hidden layer\n",
    "    Dense(64, activation='relu'),  # Hidden layer\n",
    "    Dense(y.shape[1], activation='softmax')  # Output layer for multi-class classification\n",
    "])\n",
    "\n",
    "# Compile the model\n",
    "cnn_model.compile(optimizer='adam', loss='categorical_crossentropy', metrics=['accuracy'])\n",
    "\n",
    "# Reshape the data to add an additional dimension for the CNN\n",
    "X_cnn = X.values.reshape(X.shape[0], X.shape[1], 1)\n",
    "\n",
    "# Train the model\n",
    "cnn_history = cnn_model.fit(X_cnn, y, epochs=20, validation_split=0.2, batch_size=32)\n",
    "\n",
    "# Display the training and validation accuracy/loss\n",
    "cnn_history.history"
   ]
  },
  {
   "cell_type": "code",
   "execution_count": 14,
   "id": "470bf812-60f0-4487-9d90-cf055bcc7c71",
   "metadata": {},
   "outputs": [
    {
     "name": "stdout",
     "output_type": "stream",
     "text": [
      "\u001b[1m13/13\u001b[0m \u001b[32m━━━━━━━━━━━━━━━━━━━━\u001b[0m\u001b[37m\u001b[0m \u001b[1m0s\u001b[0m 8ms/step - accuracy: 0.9569 - loss: 0.3314\n",
      "Test Accuracy: 0.8149999976158142\n",
      "Test Loss: 1.4184190034866333\n"
     ]
    }
   ],
   "source": [
    "# Evaluate the model on the test set\n",
    "test_loss_cnn, test_accuracy_cnn = cnn_model.evaluate(X_cnn, y)\n",
    "\n",
    "# Display the test accuracy and loss\n",
    "print(f\"Test Accuracy: {test_accuracy_cnn}\")\n",
    "print(f\"Test Loss: {test_loss_cnn}\")\n"
   ]
  },
  {
   "cell_type": "markdown",
   "id": "4f172ec9-911c-41a0-9ab3-4c817ee0098b",
   "metadata": {},
   "source": [
    "\n",
    "## Recurrent Neural Network (RNN) with LSTM Units Model Summary\n",
    "**Pro:** Excellent for capturing temporal dependencies and sequences in data, which can be crucial if symptoms appear in a specific order or over time.\n",
    "\n",
    "**Con:** Can be slower to train compared to other models due to the sequential nature of processing.\n",
    "\n",
    "**Use Case:** Best suited for scenarios where the order or sequence of symptoms matters in predicting diseases."
   ]
  },
  {
   "cell_type": "code",
   "execution_count": 15,
   "id": "b50c5fe8-0886-4000-ad3c-0b038c56077a",
   "metadata": {},
   "outputs": [],
   "source": [
    "# Import libraries\n",
    "from tensorflow.keras.optimizers import Adam\n",
    "from tensorflow.keras.layers import LSTM\n",
    "from tensorflow.keras import backend as K"
   ]
  },
  {
   "cell_type": "code",
   "execution_count": 16,
   "id": "f6a7b82c-8ac1-4f4f-b09a-8f2724d2dad9",
   "metadata": {},
   "outputs": [
    {
     "name": "stdout",
     "output_type": "stream",
     "text": [
      "Epoch 1/20\n",
      "\u001b[1m10/10\u001b[0m \u001b[32m━━━━━━━━━━━━━━━━━━━━\u001b[0m\u001b[37m\u001b[0m \u001b[1m10s\u001b[0m 631ms/step - accuracy: 0.0307 - loss: 3.6883 - val_accuracy: 0.0125 - val_loss: 3.6893\n",
      "Epoch 2/20\n",
      "\u001b[1m10/10\u001b[0m \u001b[32m━━━━━━━━━━━━━━━━━━━━\u001b[0m\u001b[37m\u001b[0m \u001b[1m9s\u001b[0m 551ms/step - accuracy: 0.0181 - loss: 3.6881 - val_accuracy: 0.0125 - val_loss: 3.6897\n",
      "Epoch 3/20\n",
      "\u001b[1m10/10\u001b[0m \u001b[32m━━━━━━━━━━━━━━━━━━━━\u001b[0m\u001b[37m\u001b[0m \u001b[1m6s\u001b[0m 640ms/step - accuracy: 0.0205 - loss: 3.6881 - val_accuracy: 0.0125 - val_loss: 3.6901\n",
      "Epoch 4/20\n",
      "\u001b[1m10/10\u001b[0m \u001b[32m━━━━━━━━━━━━━━━━━━━━\u001b[0m\u001b[37m\u001b[0m \u001b[1m6s\u001b[0m 629ms/step - accuracy: 0.0239 - loss: 3.6876 - val_accuracy: 0.0125 - val_loss: 3.6904\n",
      "Epoch 5/20\n",
      "\u001b[1m10/10\u001b[0m \u001b[32m━━━━━━━━━━━━━━━━━━━━\u001b[0m\u001b[37m\u001b[0m \u001b[1m6s\u001b[0m 634ms/step - accuracy: 0.0067 - loss: 3.6875 - val_accuracy: 0.0125 - val_loss: 3.6907\n",
      "Epoch 6/20\n",
      "\u001b[1m10/10\u001b[0m \u001b[32m━━━━━━━━━━━━━━━━━━━━\u001b[0m\u001b[37m\u001b[0m \u001b[1m6s\u001b[0m 654ms/step - accuracy: 0.0125 - loss: 3.6869 - val_accuracy: 0.0125 - val_loss: 3.6909\n",
      "Epoch 7/20\n",
      "\u001b[1m10/10\u001b[0m \u001b[32m━━━━━━━━━━━━━━━━━━━━\u001b[0m\u001b[37m\u001b[0m \u001b[1m6s\u001b[0m 604ms/step - accuracy: 0.0262 - loss: 3.6873 - val_accuracy: 0.0125 - val_loss: 3.6912\n",
      "Epoch 8/20\n",
      "\u001b[1m10/10\u001b[0m \u001b[32m━━━━━━━━━━━━━━━━━━━━\u001b[0m\u001b[37m\u001b[0m \u001b[1m6s\u001b[0m 605ms/step - accuracy: 0.0179 - loss: 3.6872 - val_accuracy: 0.0125 - val_loss: 3.6915\n",
      "Epoch 9/20\n",
      "\u001b[1m10/10\u001b[0m \u001b[32m━━━━━━━━━━━━━━━━━━━━\u001b[0m\u001b[37m\u001b[0m \u001b[1m6s\u001b[0m 590ms/step - accuracy: 0.0196 - loss: 3.6859 - val_accuracy: 0.0125 - val_loss: 3.6919\n",
      "Epoch 10/20\n",
      "\u001b[1m10/10\u001b[0m \u001b[32m━━━━━━━━━━━━━━━━━━━━\u001b[0m\u001b[37m\u001b[0m \u001b[1m6s\u001b[0m 581ms/step - accuracy: 0.0086 - loss: 3.6859 - val_accuracy: 0.0125 - val_loss: 3.6921\n",
      "Epoch 11/20\n",
      "\u001b[1m10/10\u001b[0m \u001b[32m━━━━━━━━━━━━━━━━━━━━\u001b[0m\u001b[37m\u001b[0m \u001b[1m6s\u001b[0m 564ms/step - accuracy: 0.0200 - loss: 3.6855 - val_accuracy: 0.0125 - val_loss: 3.6925\n",
      "Epoch 12/20\n",
      "\u001b[1m10/10\u001b[0m \u001b[32m━━━━━━━━━━━━━━━━━━━━\u001b[0m\u001b[37m\u001b[0m \u001b[1m6s\u001b[0m 592ms/step - accuracy: 0.0181 - loss: 3.6850 - val_accuracy: 0.0125 - val_loss: 3.6929\n",
      "Epoch 13/20\n",
      "\u001b[1m10/10\u001b[0m \u001b[32m━━━━━━━━━━━━━━━━━━━━\u001b[0m\u001b[37m\u001b[0m \u001b[1m9s\u001b[0m 484ms/step - accuracy: 0.0128 - loss: 3.6836 - val_accuracy: 0.0125 - val_loss: 3.6934\n",
      "Epoch 14/20\n",
      "\u001b[1m10/10\u001b[0m \u001b[32m━━━━━━━━━━━━━━━━━━━━\u001b[0m\u001b[37m\u001b[0m \u001b[1m6s\u001b[0m 651ms/step - accuracy: 0.0326 - loss: 3.6833 - val_accuracy: 0.0125 - val_loss: 3.6939\n",
      "Epoch 15/20\n",
      "\u001b[1m10/10\u001b[0m \u001b[32m━━━━━━━━━━━━━━━━━━━━\u001b[0m\u001b[37m\u001b[0m \u001b[1m6s\u001b[0m 615ms/step - accuracy: 0.0331 - loss: 3.6833 - val_accuracy: 0.0125 - val_loss: 3.6946\n",
      "Epoch 16/20\n",
      "\u001b[1m10/10\u001b[0m \u001b[32m━━━━━━━━━━━━━━━━━━━━\u001b[0m\u001b[37m\u001b[0m \u001b[1m6s\u001b[0m 610ms/step - accuracy: 0.0258 - loss: 3.6818 - val_accuracy: 0.0125 - val_loss: 3.6957\n",
      "Epoch 17/20\n",
      "\u001b[1m10/10\u001b[0m \u001b[32m━━━━━━━━━━━━━━━━━━━━\u001b[0m\u001b[37m\u001b[0m \u001b[1m6s\u001b[0m 599ms/step - accuracy: 0.0325 - loss: 3.6782 - val_accuracy: 0.0125 - val_loss: 3.6974\n",
      "Epoch 18/20\n",
      "\u001b[1m10/10\u001b[0m \u001b[32m━━━━━━━━━━━━━━━━━━━━\u001b[0m\u001b[37m\u001b[0m \u001b[1m6s\u001b[0m 605ms/step - accuracy: 0.0276 - loss: 12.5158 - val_accuracy: 0.0125 - val_loss: 16479408558129298854796853248.0000\n",
      "Epoch 19/20\n",
      "\u001b[1m10/10\u001b[0m \u001b[32m━━━━━━━━━━━━━━━━━━━━\u001b[0m\u001b[37m\u001b[0m \u001b[1m6s\u001b[0m 587ms/step - accuracy: 0.0219 - loss: 12033860608.0000 - val_accuracy: 0.0000e+00 - val_loss: 3.6911\n",
      "Epoch 20/20\n",
      "\u001b[1m10/10\u001b[0m \u001b[32m━━━━━━━━━━━━━━━━━━━━\u001b[0m\u001b[37m\u001b[0m \u001b[1m6s\u001b[0m 586ms/step - accuracy: 0.0165 - loss: 3.6884 - val_accuracy: 0.0000e+00 - val_loss: 3.6912\n",
      "\u001b[1m13/13\u001b[0m \u001b[32m━━━━━━━━━━━━━━━━━━━━\u001b[0m\u001b[37m\u001b[0m \u001b[1m2s\u001b[0m 185ms/step - accuracy: 0.0422 - loss: 3.6885\n",
      "Test Accuracy: 0.02500000037252903\n",
      "Test Loss: 3.688884973526001\n"
     ]
    }
   ],
   "source": [
    "# Define the RNN with LSTM model structure\n",
    "def create_lstm_model():\n",
    "    model = Sequential([\n",
    "        tf.keras.layers.Input(shape=(preprocessed_df.shape[1] - 1, 1)),  # Input layer\n",
    "        LSTM(128, activation='relu', return_sequences=True),  # LSTM layer with return sequences\n",
    "        LSTM(64, activation='relu'),  # LSTM layer\n",
    "        Dense(64, activation='relu'),  # Hidden layer\n",
    "        Dense(y.shape[1], activation='softmax')  # Output layer for multi-class classification\n",
    "    ])\n",
    "    return model\n",
    "\n",
    "# Create and compile the model\n",
    "lstm_model = create_lstm_model()\n",
    "optimizer = Adam(learning_rate=0.0001, clipvalue=1.0)  # Adjusted learning rate and gradient clipping\n",
    "lstm_model.compile(optimizer=optimizer, loss='categorical_crossentropy', metrics=['accuracy'])\n",
    "\n",
    "# Reshape the data to add an additional dimension for the RNN\n",
    "X_lstm = X.values.reshape(X.shape[0], X.shape[1], 1)\n",
    "\n",
    "# Train the model with adjusted parameters\n",
    "lstm_history = lstm_model.fit(X_lstm, y, epochs=20, validation_split=0.2, batch_size=32)\n",
    "\n",
    "# Evaluate the model on the test set\n",
    "test_loss_lstm, test_accuracy_lstm = lstm_model.evaluate(X_lstm, y)\n",
    "\n",
    "# Display the test accuracy and loss\n",
    "print(f\"Test Accuracy: {test_accuracy_lstm}\")\n",
    "print(f\"Test Loss: {test_loss_lstm}\")"
   ]
  },
  {
   "cell_type": "code",
   "execution_count": 17,
   "id": "9899877b-e869-4cf2-9960-258e7b9c569a",
   "metadata": {},
   "outputs": [
    {
     "name": "stdout",
     "output_type": "stream",
     "text": [
      "\u001b[1m13/13\u001b[0m \u001b[32m━━━━━━━━━━━━━━━━━━━━\u001b[0m\u001b[37m\u001b[0m \u001b[1m3s\u001b[0m 198ms/step - accuracy: 0.0422 - loss: 3.6885\n",
      "Test Accuracy: 0.02500000037252903\n",
      "Test Loss: 3.688884973526001\n"
     ]
    }
   ],
   "source": [
    "# Evaluate the model on the test set\n",
    "test_loss_lstm, test_accuracy_lstm = lstm_model.evaluate(X_lstm, y)\n",
    "\n",
    "# Display the test accuracy and loss\n",
    "print(f\"Test Accuracy: {test_accuracy_lstm}\")\n",
    "print(f\"Test Loss: {test_loss_lstm}\")\n"
   ]
  },
  {
   "cell_type": "markdown",
   "id": "f92f6787-3a41-4849-9dac-1356247cc09b",
   "metadata": {},
   "source": [
    "## Model Performance Summary\n",
    "\n",
    "After training and evaluating the Multi-Layer Perceptron (MLP), Convolutional Neural Network (CNN), and Recurrent Neural Network (RNN) with LSTM models on the dataset, the following results were observed:\n",
    "\n",
    "- **Multi-Layer Perceptron (MLP):**  \n",
    "  The MLP model showed strong performance, with a training accuracy of 100% and a test accuracy of 81%. This indicates that the model was able to learn the patterns in the training data effectively and generalize relatively well to unseen data. The model's loss was also low, making it the best performer among the models tested.\n",
    "\n",
    "- **Convolutional Neural Network (CNN):**  \n",
    "  The CNN model performed well with a test accuracy of approximately 80.5%. Although the training accuracy was high, the model experienced a higher loss during testing, suggesting that while it captured some patterns in the data, it wasn't as effective as the MLP in generalizing to new examples.\n",
    "\n",
    "- **Recurrent Neural Network (RNN) with LSTM:**  \n",
    "  The LSTM model was modified several times to improve its performance. Despite these modifications, the LSTM performed poorly, with a test accuracy of only 2.25% and a high test loss. This suggests that the LSTM struggled to learn meaningful patterns from the data, likely due to the nature of the dataset, which may not be well-suited for a sequential model like LSTM.\n",
    "\n",
    "### Conclusion:\n",
    "Based on the results, the **Multi-Layer Perceptron (MLP)** model performed the best, showing strong accuracy and low loss. The **Convolutional Neural Network (CNN)** also performed reasonably well but had a slightly higher test loss. The **Recurrent Neural Network (RNN) with LSTM**, despite several modifications, did not perform well, indicating that it might not be the right choice for this dataset.\n"
   ]
  },
  {
   "cell_type": "markdown",
   "id": "a957b395-8928-4a46-aa0d-2974505935cc",
   "metadata": {},
   "source": [
    "## Saving the MLP Model"
   ]
  },
  {
   "cell_type": "code",
   "execution_count": 18,
   "id": "f9201f29-01b5-4360-a7a5-f3afd0b3f2da",
   "metadata": {},
   "outputs": [
    {
     "name": "stderr",
     "output_type": "stream",
     "text": [
      "WARNING:absl:You are saving your model as an HDF5 file via `model.save()` or `keras.saving.save_model(model)`. This file format is considered legacy. We recommend using instead the native Keras format, e.g. `model.save('my_model.keras')` or `keras.saving.save_model(model, 'my_model.keras')`. \n"
     ]
    },
    {
     "name": "stdout",
     "output_type": "stream",
     "text": [
      "MLP model saved successfully in the 'resources' folder.\n"
     ]
    }
   ],
   "source": [
    "# Save the trained MLP model\n",
    "mlp_model.save('mlp_model.h5')\n",
    "\n",
    "# Confirm the model has been saved successfully\n",
    "print(\"MLP model saved successfully in the 'resources' folder.\")\n"
   ]
  },
  {
   "cell_type": "markdown",
   "id": "9b03ba3b-b393-4913-911c-440cca30320f",
   "metadata": {},
   "source": [
    "## Preliminary Streamlit App Development "
   ]
  },
  {
   "cell_type": "code",
   "execution_count": 19,
   "id": "c22201ac-90a9-4564-9a08-6906122dec46",
   "metadata": {},
   "outputs": [
    {
     "data": {
      "text/plain": [
       "['Anemia',\n",
       " 'Anxiety',\n",
       " 'Aura',\n",
       " 'Belching',\n",
       " 'Bladder issues',\n",
       " 'Bleeding mole',\n",
       " 'Blisters',\n",
       " 'Bloating',\n",
       " 'Blood in stool',\n",
       " 'Body aches',\n",
       " 'Bone fractures',\n",
       " 'Bone pain',\n",
       " 'Bowel issues',\n",
       " 'Burning',\n",
       " 'Butterfly-shaped rash',\n",
       " 'Change in bowel habits',\n",
       " 'Change in existing mole',\n",
       " 'Chest discomfort',\n",
       " 'Chest pain',\n",
       " 'Congestion',\n",
       " 'Constipation',\n",
       " 'Coughing up blood',\n",
       " 'Depression',\n",
       " 'Diarrhea',\n",
       " 'Difficulty performing familiar tasks',\n",
       " 'Difficulty sleeping',\n",
       " 'Difficulty swallowing',\n",
       " 'Difficulty thinking',\n",
       " 'Difficulty walking',\n",
       " 'Double vision',\n",
       " 'Easy bruising',\n",
       " 'Fatigue',\n",
       " 'Fear',\n",
       " 'Frequent infections',\n",
       " 'Frequent urination',\n",
       " 'Fullness',\n",
       " 'Gas',\n",
       " 'Hair loss',\n",
       " 'Hard lumps',\n",
       " 'Headache',\n",
       " 'Hunger',\n",
       " 'Inability to defecate',\n",
       " 'Increased mucus production',\n",
       " 'Increased thirst',\n",
       " 'Irregular heartbeat',\n",
       " 'Irritability',\n",
       " 'Itching',\n",
       " 'Jaw pain',\n",
       " 'Limited range of motion',\n",
       " 'Loss of automatic movements',\n",
       " 'Loss of height',\n",
       " 'Loss of smell',\n",
       " 'Loss of taste',\n",
       " 'Lump or swelling',\n",
       " 'Mild fever',\n",
       " 'Misplacing things',\n",
       " 'Morning stiffness',\n",
       " 'Mouth sores',\n",
       " 'Mucus production',\n",
       " 'Nausea',\n",
       " 'Neck stiffness',\n",
       " 'Nosebleeds',\n",
       " 'Numbness',\n",
       " 'Pain during urination',\n",
       " 'Pale skin',\n",
       " 'Persistent cough',\n",
       " 'Persistent pain',\n",
       " 'Pigment spread',\n",
       " 'Pneumonia',\n",
       " 'Poor judgment',\n",
       " 'Problems with words',\n",
       " 'Rapid pulse',\n",
       " 'Rash',\n",
       " 'Receding gums',\n",
       " 'Redness',\n",
       " 'Redness in joints',\n",
       " 'Reduced appetite',\n",
       " 'Seizures',\n",
       " 'Sensitivity to light',\n",
       " 'Severe headache',\n",
       " 'Shortness of breath',\n",
       " 'Skin changes',\n",
       " 'Skin infections',\n",
       " 'Slight fever',\n",
       " 'Sneezing',\n",
       " 'Sore that doesn’t heal',\n",
       " 'Soreness',\n",
       " 'Staring spells',\n",
       " 'Stiff joints',\n",
       " 'Stooped posture',\n",
       " 'Swelling',\n",
       " 'Swelling in ankles',\n",
       " 'Swollen joints',\n",
       " 'Swollen lymph nodes',\n",
       " 'Tender abdomen',\n",
       " 'Tenderness',\n",
       " 'Thickened skin',\n",
       " 'Throbbing pain',\n",
       " 'Tophi',\n",
       " 'Tremor',\n",
       " 'Unconsciousness',\n",
       " 'Unexplained bleeding',\n",
       " 'Unexplained fevers',\n",
       " 'Vomiting',\n",
       " 'Weakness',\n",
       " 'Withdrawal from work',\n",
       " 'Writing changes']"
      ]
     },
     "execution_count": 19,
     "metadata": {},
     "output_type": "execute_result"
    }
   ],
   "source": [
    "# Code to Extract Symptoms\n",
    "\n",
    "import pandas as pd\n",
    "\n",
    "# Load the dataset\n",
    "df = pd.read_csv('dataset_kaggle.csv')\n",
    "\n",
    "# Extract all unique symptoms across all symptom columns\n",
    "symptom_columns = df.columns[1:]  # Exclude the 'Disease' column\n",
    "unique_symptoms = set()\n",
    "\n",
    "for col in symptom_columns:\n",
    "    unique_symptoms.update(df[col].unique())\n",
    "\n",
    "# Remove any '0' values from the symptoms\n",
    "unique_symptoms.discard(0)\n",
    "\n",
    "# Convert to a sorted list for dropdown use\n",
    "symptoms_list = sorted(unique_symptoms)\n",
    "\n",
    "# Display the list of unique symptoms\n",
    "symptoms_list\n"
   ]
  },
  {
   "cell_type": "code",
   "execution_count": null,
   "id": "54903038-788e-4677-ad8f-6943774c61d6",
   "metadata": {},
   "outputs": [],
   "source": []
  }
 ],
 "metadata": {
  "kernelspec": {
   "display_name": "dev",
   "language": "python",
   "name": "python3"
  },
  "language_info": {
   "codemirror_mode": {
    "name": "ipython",
    "version": 3
   },
   "file_extension": ".py",
   "mimetype": "text/x-python",
   "name": "python",
   "nbconvert_exporter": "python",
   "pygments_lexer": "ipython3",
   "version": "3.12.4"
  }
 },
 "nbformat": 4,
 "nbformat_minor": 5
}
