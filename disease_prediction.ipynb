{
 "cells": [
  {
   "cell_type": "code",
   "execution_count": 1,
   "metadata": {},
   "outputs": [],
   "source": [
    "import streamlit as st\n",
    "import pandas as pd\n",
    "import numpy as np\n",
    "import tensorflow as tf\n",
    "import plotly.express as px\n",
    "from tensorflow.keras.models import load_model\n",
    "import random"
   ]
  },
  {
   "cell_type": "code",
   "execution_count": 2,
   "metadata": {},
   "outputs": [
    {
     "name": "stderr",
     "output_type": "stream",
     "text": [
      "2025-02-06 09:57:01.451 WARNING streamlit.runtime.scriptrunner_utils.script_run_context: Thread 'MainThread': missing ScriptRunContext! This warning can be ignored when running in bare mode.\n",
      "WARNING:absl:Compiled the loaded model, but the compiled metrics have yet to be built. `model.compile_metrics` will be empty until you train or evaluate the model.\n"
     ]
    }
   ],
   "source": [
    "# Set the theme for the app\n",
    "st.set_page_config(page_title=\"🩺 Disease Prediction Based on Symptoms\", layout=\"wide\")\n",
    "\n",
    "# Load the trained MLP model\n",
    "model = load_model('cnn_model.h5')\n",
    "\n",
    "# Load and prepare the dataset\n",
    "df = pd.read_csv('disease_symptoms.csv')"
   ]
  },
  {
   "cell_type": "code",
   "execution_count": 3,
   "metadata": {},
   "outputs": [],
   "source": [
    "# Full list of symptoms\n",
    "symptoms_list = ['itching', 'skin_rash', 'nodal_skin_eruptions', 'continuous_sneezing', 'shivering', 'chills', \n",
    "                 'joint_pain', 'stomach_pain', 'acidity', 'ulcers_on_tongue', 'muscle_wasting', 'vomiting', \n",
    "                 'burning_micturition', 'spotting_ urination', 'fatigue', 'weight_gain', 'anxiety', \n",
    "                 'cold_hands_and_feets', 'mood_swings', 'weight_loss', 'restlessness', 'lethargy', 'patches_in_throat', \n",
    "                 'irregular_sugar_level', 'cough', 'high_fever', 'sunken_eyes', 'breathlessness', 'sweating', 'dehydration', \n",
    "                 'indigestion', 'headache', 'yellowish_skin', 'dark_urine', 'nausea', 'loss_of_appetite', \n",
    "                 'pain_behind_the_eyes', 'back_pain', 'constipation', 'abdominal_pain', 'diarrhoea', 'mild_fever', \n",
    "                 'yellow_urine', 'yellowing_of_eyes', 'acute_liver_failure', 'fluid_overload', 'swelling_of_stomach', \n",
    "                 'swelled_lymph_nodes', 'malaise', 'blurred_and_distorted_vision', 'phlegm', 'throat_irritation', \n",
    "                 'redness_of_eyes', 'sinus_pressure', 'runny_nose', 'congestion', 'chest_pain', 'weakness_in_limbs', \n",
    "                 'fast_heart_rate', 'pain_during_bowel_movements', 'pain_in_anal_region', 'bloody_stool', 'irritation_in_anus', \n",
    "                 'neck_pain', 'dizziness', 'cramps', 'bruising', 'obesity', 'swollen_legs', 'swollen_blood_vessels', \n",
    "                 'puffy_face_and_eyes', 'enlarged_thyroid', 'brittle_nails', 'swollen_extremeties', 'excessive_hunger', \n",
    "                 'extra_marital_contacts', 'drying_and_tingling_lips', 'slurred_speech', 'knee_pain', 'hip_joint_pain', \n",
    "                 'muscle_weakness', 'stiff_neck', 'swelling_joints', 'movement_stiffness', 'spinning_movements', 'loss_of_balance', \n",
    "                 'unsteadiness', 'weakness_of_one_body_side', 'loss_of_smell', 'bladder_discomfort', 'foul_smell_of urine', \n",
    "                 'continuous_feel_of_urine', 'passage_of_gases', 'internal_itching', 'toxic_look_(typhos)', 'depression', \n",
    "                 'irritability', 'muscle_pain', 'altered_sensorium', 'red_spots_over_body', 'belly_pain', 'abnormal_menstruation', \n",
    "                 'dischromic _patches', 'watering_from_eyes', 'increased_appetite', 'polyuria', 'family_history', 'mucoid_sputum', \n",
    "                 'rusty_sputum', 'lack_of_concentration', 'visual_disturbances', 'receiving_blood_transfusion', \n",
    "                 'receiving_unsterile_injections', 'coma', 'stomach_bleeding', 'distention_of_abdomen', 'history_of_alcohol_consumption', \n",
    "                 'fluid_overload.1', 'blood_in_sputum', 'prominent_veins_on_calf', 'palpitations', 'painful_walking', \n",
    "                 'pus_filled_pimples', 'blackheads', 'scurring', 'skin_peeling', 'silver_like_dusting', 'small_dents_in_nails', \n",
    "                 'inflammatory_nails', 'blister', 'red_sore_around_nose', 'yellow_crust_ooze',]"
   ]
  },
  {
   "cell_type": "code",
   "execution_count": 4,
   "metadata": {},
   "outputs": [
    {
     "name": "stderr",
     "output_type": "stream",
     "text": [
      "2025-02-06 09:57:08.854 WARNING streamlit.runtime.scriptrunner_utils.script_run_context: Thread 'MainThread': missing ScriptRunContext! This warning can be ignored when running in bare mode.\n",
      "2025-02-06 09:57:11.357 \n",
      "  \u001b[33m\u001b[1mWarning:\u001b[0m to view this Streamlit app on a browser, run it with the following\n",
      "  command:\n",
      "\n",
      "    streamlit run C:\\Users\\Anand\\AppData\\Roaming\\Python\\Python312\\site-packages\\ipykernel_launcher.py [ARGUMENTS]\n",
      "2025-02-06 09:57:11.362 Thread 'MainThread': missing ScriptRunContext! This warning can be ignored when running in bare mode.\n",
      "2025-02-06 09:57:11.363 Thread 'MainThread': missing ScriptRunContext! This warning can be ignored when running in bare mode.\n",
      "2025-02-06 09:57:11.365 Thread 'MainThread': missing ScriptRunContext! This warning can be ignored when running in bare mode.\n"
     ]
    },
    {
     "data": {
      "text/plain": [
       "DeltaGenerator()"
      ]
     },
     "execution_count": 4,
     "metadata": {},
     "output_type": "execute_result"
    }
   ],
   "source": [
    "# Streamlit app layout\n",
    "st.title(\"🩺 Disease Prediction Based on Symptoms\")\n",
    "st.markdown(\"\"\"\n",
    "Welcome to the Disease Prediction app. This tool allows healthcare providers and patients to input symptoms and receive potential disease predictions based on machine learning. The predictions prioritize serious illnesses depending on the symptoms provided.\n",
    "\"\"\")"
   ]
  },
  {
   "cell_type": "code",
   "execution_count": 5,
   "metadata": {},
   "outputs": [
    {
     "name": "stderr",
     "output_type": "stream",
     "text": [
      "2025-02-06 09:57:18.916 Thread 'MainThread': missing ScriptRunContext! This warning can be ignored when running in bare mode.\n",
      "2025-02-06 09:57:18.917 Session state does not function when running a script without `streamlit run`\n",
      "2025-02-06 09:57:18.919 Thread 'MainThread': missing ScriptRunContext! This warning can be ignored when running in bare mode.\n",
      "2025-02-06 09:57:18.920 Thread 'MainThread': missing ScriptRunContext! This warning can be ignored when running in bare mode.\n"
     ]
    }
   ],
   "source": [
    "# Initialize selected symptoms list\n",
    "if 'selected_symptoms' not in st.session_state:\n",
    "    st.session_state.selected_symptoms = ['Please Select'] * 5\n",
    "\n",
    "# Function to display dropdowns and manage selections\n",
    "def display_dropdowns():\n",
    "    for i in range(len(st.session_state.selected_symptoms)):\n",
    "        options = ['Please Select'] + sorted(set(symptoms_list) - set(st.session_state.selected_symptoms[:i] + st.session_state.selected_symptoms[i+1:]))\n",
    "\n",
    "        # Initialize session state for the typed value if not already set\n",
    "        if f\"typed_{i}\" not in st.session_state:\n",
    "            st.session_state[f\"typed_{i}\"] = \"\"\n",
    "\n",
    "        def on_select_change():\n",
    "            typed_value = st.session_state[f\"typed_{i}\"].strip()\n",
    "            if typed_value in symptoms_list:\n",
    "                st.session_state.selected_symptoms[i] = typed_value\n",
    "            elif st.session_state.selected_symptoms[i] not in symptoms_list:\n",
    "                st.session_state.selected_symptoms[i] = 'Please Select'\n",
    "\n",
    "        selected_symptom = st.selectbox(\n",
    "            f\"Symptom {i+1}\",\n",
    "            options=options,\n",
    "            index=options.index(st.session_state.selected_symptoms[i]) if st.session_state.selected_symptoms[i] in options else 0,\n",
    "            key=f\"dropdown_{i}\",\n",
    "            on_change=on_select_change\n",
    "        )\n",
    "\n",
    "        st.session_state.selected_symptoms[i] = selected_symptom\n",
    "\n",
    "    if len(st.session_state.selected_symptoms) < 17:\n",
    "        if st.button(\"Add Another Symptom\"):\n",
    "            st.session_state.selected_symptoms.append('Please Select')"
   ]
  },
  {
   "cell_type": "code",
   "execution_count": 6,
   "metadata": {},
   "outputs": [
    {
     "name": "stderr",
     "output_type": "stream",
     "text": [
      "2025-02-06 09:57:23.748 Thread 'MainThread': missing ScriptRunContext! This warning can be ignored when running in bare mode.\n",
      "2025-02-06 09:57:23.750 Thread 'MainThread': missing ScriptRunContext! This warning can be ignored when running in bare mode.\n",
      "2025-02-06 09:57:23.750 Thread 'MainThread': missing ScriptRunContext! This warning can be ignored when running in bare mode.\n",
      "2025-02-06 09:57:23.752 Thread 'MainThread': missing ScriptRunContext! This warning can be ignored when running in bare mode.\n",
      "2025-02-06 09:57:23.752 Thread 'MainThread': missing ScriptRunContext! This warning can be ignored when running in bare mode.\n",
      "2025-02-06 09:57:23.753 Thread 'MainThread': missing ScriptRunContext! This warning can be ignored when running in bare mode.\n",
      "2025-02-06 09:57:23.754 Thread 'MainThread': missing ScriptRunContext! This warning can be ignored when running in bare mode.\n",
      "2025-02-06 09:57:23.756 Thread 'MainThread': missing ScriptRunContext! This warning can be ignored when running in bare mode.\n",
      "2025-02-06 09:57:23.757 Thread 'MainThread': missing ScriptRunContext! This warning can be ignored when running in bare mode.\n",
      "2025-02-06 09:57:23.757 Thread 'MainThread': missing ScriptRunContext! This warning can be ignored when running in bare mode.\n",
      "2025-02-06 09:57:23.758 Thread 'MainThread': missing ScriptRunContext! This warning can be ignored when running in bare mode.\n",
      "2025-02-06 09:57:23.759 Thread 'MainThread': missing ScriptRunContext! This warning can be ignored when running in bare mode.\n",
      "2025-02-06 09:57:23.759 Thread 'MainThread': missing ScriptRunContext! This warning can be ignored when running in bare mode.\n",
      "2025-02-06 09:57:23.760 Thread 'MainThread': missing ScriptRunContext! This warning can be ignored when running in bare mode.\n",
      "2025-02-06 09:57:23.762 Thread 'MainThread': missing ScriptRunContext! This warning can be ignored when running in bare mode.\n",
      "2025-02-06 09:57:23.763 Thread 'MainThread': missing ScriptRunContext! This warning can be ignored when running in bare mode.\n",
      "2025-02-06 09:57:23.766 Thread 'MainThread': missing ScriptRunContext! This warning can be ignored when running in bare mode.\n",
      "2025-02-06 09:57:23.768 Thread 'MainThread': missing ScriptRunContext! This warning can be ignored when running in bare mode.\n",
      "2025-02-06 09:57:23.768 Thread 'MainThread': missing ScriptRunContext! This warning can be ignored when running in bare mode.\n",
      "2025-02-06 09:57:23.769 Thread 'MainThread': missing ScriptRunContext! This warning can be ignored when running in bare mode.\n",
      "2025-02-06 09:57:23.770 Thread 'MainThread': missing ScriptRunContext! This warning can be ignored when running in bare mode.\n",
      "2025-02-06 09:57:23.771 Thread 'MainThread': missing ScriptRunContext! This warning can be ignored when running in bare mode.\n",
      "2025-02-06 09:57:23.771 Thread 'MainThread': missing ScriptRunContext! This warning can be ignored when running in bare mode.\n",
      "2025-02-06 09:57:23.774 Thread 'MainThread': missing ScriptRunContext! This warning can be ignored when running in bare mode.\n",
      "2025-02-06 09:57:23.775 Thread 'MainThread': missing ScriptRunContext! This warning can be ignored when running in bare mode.\n",
      "2025-02-06 09:57:23.776 Thread 'MainThread': missing ScriptRunContext! This warning can be ignored when running in bare mode.\n",
      "2025-02-06 09:57:23.777 Thread 'MainThread': missing ScriptRunContext! This warning can be ignored when running in bare mode.\n",
      "2025-02-06 09:57:23.780 Thread 'MainThread': missing ScriptRunContext! This warning can be ignored when running in bare mode.\n",
      "2025-02-06 09:57:23.781 Thread 'MainThread': missing ScriptRunContext! This warning can be ignored when running in bare mode.\n",
      "2025-02-06 09:57:23.782 Thread 'MainThread': missing ScriptRunContext! This warning can be ignored when running in bare mode.\n",
      "2025-02-06 09:57:23.783 Thread 'MainThread': missing ScriptRunContext! This warning can be ignored when running in bare mode.\n",
      "2025-02-06 09:57:23.783 Thread 'MainThread': missing ScriptRunContext! This warning can be ignored when running in bare mode.\n",
      "2025-02-06 09:57:23.784 Thread 'MainThread': missing ScriptRunContext! This warning can be ignored when running in bare mode.\n",
      "2025-02-06 09:57:23.785 Thread 'MainThread': missing ScriptRunContext! This warning can be ignored when running in bare mode.\n",
      "2025-02-06 09:57:23.786 Thread 'MainThread': missing ScriptRunContext! This warning can be ignored when running in bare mode.\n",
      "2025-02-06 09:57:23.786 Thread 'MainThread': missing ScriptRunContext! This warning can be ignored when running in bare mode.\n",
      "2025-02-06 09:57:23.788 Thread 'MainThread': missing ScriptRunContext! This warning can be ignored when running in bare mode.\n",
      "2025-02-06 09:57:23.789 Thread 'MainThread': missing ScriptRunContext! This warning can be ignored when running in bare mode.\n",
      "2025-02-06 09:57:23.789 Thread 'MainThread': missing ScriptRunContext! This warning can be ignored when running in bare mode.\n",
      "2025-02-06 09:57:23.790 Thread 'MainThread': missing ScriptRunContext! This warning can be ignored when running in bare mode.\n",
      "2025-02-06 09:57:23.791 Thread 'MainThread': missing ScriptRunContext! This warning can be ignored when running in bare mode.\n",
      "2025-02-06 09:57:23.792 Thread 'MainThread': missing ScriptRunContext! This warning can be ignored when running in bare mode.\n",
      "2025-02-06 09:57:23.793 Thread 'MainThread': missing ScriptRunContext! This warning can be ignored when running in bare mode.\n",
      "2025-02-06 09:57:23.794 Thread 'MainThread': missing ScriptRunContext! This warning can be ignored when running in bare mode.\n",
      "2025-02-06 09:57:23.797 Thread 'MainThread': missing ScriptRunContext! This warning can be ignored when running in bare mode.\n",
      "2025-02-06 09:57:23.799 Thread 'MainThread': missing ScriptRunContext! This warning can be ignored when running in bare mode.\n",
      "2025-02-06 09:57:23.802 Thread 'MainThread': missing ScriptRunContext! This warning can be ignored when running in bare mode.\n",
      "2025-02-06 09:57:23.804 Thread 'MainThread': missing ScriptRunContext! This warning can be ignored when running in bare mode.\n",
      "2025-02-06 09:57:23.805 Thread 'MainThread': missing ScriptRunContext! This warning can be ignored when running in bare mode.\n",
      "2025-02-06 09:57:23.842 Thread 'MainThread': missing ScriptRunContext! This warning can be ignored when running in bare mode.\n",
      "2025-02-06 09:57:23.844 Thread 'MainThread': missing ScriptRunContext! This warning can be ignored when running in bare mode.\n",
      "2025-02-06 09:57:23.845 Thread 'MainThread': missing ScriptRunContext! This warning can be ignored when running in bare mode.\n",
      "2025-02-06 09:57:23.846 Thread 'MainThread': missing ScriptRunContext! This warning can be ignored when running in bare mode.\n",
      "2025-02-06 09:57:23.848 Thread 'MainThread': missing ScriptRunContext! This warning can be ignored when running in bare mode.\n",
      "2025-02-06 09:57:23.849 Thread 'MainThread': missing ScriptRunContext! This warning can be ignored when running in bare mode.\n",
      "2025-02-06 09:57:23.851 Thread 'MainThread': missing ScriptRunContext! This warning can be ignored when running in bare mode.\n",
      "2025-02-06 09:57:23.852 Thread 'MainThread': missing ScriptRunContext! This warning can be ignored when running in bare mode.\n",
      "2025-02-06 09:57:23.854 Thread 'MainThread': missing ScriptRunContext! This warning can be ignored when running in bare mode.\n",
      "2025-02-06 09:57:23.857 Thread 'MainThread': missing ScriptRunContext! This warning can be ignored when running in bare mode.\n",
      "2025-02-06 09:57:23.859 Thread 'MainThread': missing ScriptRunContext! This warning can be ignored when running in bare mode.\n",
      "2025-02-06 09:57:23.859 Thread 'MainThread': missing ScriptRunContext! This warning can be ignored when running in bare mode.\n",
      "2025-02-06 09:57:23.860 Thread 'MainThread': missing ScriptRunContext! This warning can be ignored when running in bare mode.\n",
      "2025-02-06 09:57:23.861 Thread 'MainThread': missing ScriptRunContext! This warning can be ignored when running in bare mode.\n",
      "2025-02-06 09:57:23.862 Thread 'MainThread': missing ScriptRunContext! This warning can be ignored when running in bare mode.\n",
      "2025-02-06 09:57:23.863 Thread 'MainThread': missing ScriptRunContext! This warning can be ignored when running in bare mode.\n",
      "2025-02-06 09:57:23.863 Thread 'MainThread': missing ScriptRunContext! This warning can be ignored when running in bare mode.\n",
      "2025-02-06 09:57:23.864 Thread 'MainThread': missing ScriptRunContext! This warning can be ignored when running in bare mode.\n",
      "2025-02-06 09:57:23.865 Thread 'MainThread': missing ScriptRunContext! This warning can be ignored when running in bare mode.\n",
      "2025-02-06 09:57:23.865 Thread 'MainThread': missing ScriptRunContext! This warning can be ignored when running in bare mode.\n",
      "2025-02-06 09:57:23.866 Thread 'MainThread': missing ScriptRunContext! This warning can be ignored when running in bare mode.\n",
      "2025-02-06 09:57:23.867 Thread 'MainThread': missing ScriptRunContext! This warning can be ignored when running in bare mode.\n",
      "2025-02-06 09:57:23.868 Thread 'MainThread': missing ScriptRunContext! This warning can be ignored when running in bare mode.\n",
      "2025-02-06 09:57:23.870 Thread 'MainThread': missing ScriptRunContext! This warning can be ignored when running in bare mode.\n",
      "2025-02-06 09:57:23.870 Thread 'MainThread': missing ScriptRunContext! This warning can be ignored when running in bare mode.\n",
      "2025-02-06 09:57:23.871 Thread 'MainThread': missing ScriptRunContext! This warning can be ignored when running in bare mode.\n",
      "2025-02-06 09:57:23.872 Thread 'MainThread': missing ScriptRunContext! This warning can be ignored when running in bare mode.\n",
      "2025-02-06 09:57:23.873 Thread 'MainThread': missing ScriptRunContext! This warning can be ignored when running in bare mode.\n",
      "2025-02-06 09:57:23.874 Thread 'MainThread': missing ScriptRunContext! This warning can be ignored when running in bare mode.\n",
      "2025-02-06 09:57:23.897 Thread 'MainThread': missing ScriptRunContext! This warning can be ignored when running in bare mode.\n",
      "2025-02-06 09:57:23.912 Thread 'MainThread': missing ScriptRunContext! This warning can be ignored when running in bare mode.\n",
      "2025-02-06 09:57:23.914 Thread 'MainThread': missing ScriptRunContext! This warning can be ignored when running in bare mode.\n"
     ]
    }
   ],
   "source": [
    "# Create a two-column layout\n",
    "col1, col2 = st.columns([1, 1])\n",
    "\n",
    "with col1:\n",
    "    # Display dropdowns for symptom selection\n",
    "    display_dropdowns()\n",
    "\n",
    "# Filter out 'Please Select' from the final symptom list\n",
    "final_selected_symptoms = [symptom for symptom in st.session_state.selected_symptoms if symptom != 'Please Select' and symptom in symptoms_list]\n"
   ]
  },
  {
   "cell_type": "code",
   "execution_count": 7,
   "metadata": {},
   "outputs": [
    {
     "name": "stderr",
     "output_type": "stream",
     "text": [
      "2025-02-06 09:57:29.362 Thread 'MainThread': missing ScriptRunContext! This warning can be ignored when running in bare mode.\n",
      "2025-02-06 09:57:29.364 Thread 'MainThread': missing ScriptRunContext! This warning can be ignored when running in bare mode.\n",
      "2025-02-06 09:57:29.380 Thread 'MainThread': missing ScriptRunContext! This warning can be ignored when running in bare mode.\n",
      "2025-02-06 09:57:29.381 Thread 'MainThread': missing ScriptRunContext! This warning can be ignored when running in bare mode.\n",
      "2025-02-06 09:57:29.382 Thread 'MainThread': missing ScriptRunContext! This warning can be ignored when running in bare mode.\n",
      "2025-02-06 09:57:29.384 Thread 'MainThread': missing ScriptRunContext! This warning can be ignored when running in bare mode.\n"
     ]
    }
   ],
   "source": [
    "# Placeholder for the pie chart\n",
    "with col2:\n",
    "    if len(final_selected_symptoms) < 5:\n",
    "        fig = px.pie(names=[\"Please make symptom selections to generate probable disease cause\"], values=[100], title=\"Awaiting Input\")\n",
    "        st.markdown(\"**User must select at least 5 symptoms for Predict to be enabled**\", unsafe_allow_html=True)\n",
    "        st.plotly_chart(fig)\n",
    "    else:\n",
    "        # Limit number of selected symptoms to 17\n",
    "        if len(final_selected_symptoms) > 17:\n",
    "            st.warning(\"You can only select up to 17 symptoms.\")\n",
    "            final_selected_symptoms = final_selected_symptoms[:17]\n",
    "\n",
    "        # Disable predict button if conditions are not met\n",
    "        predict_disabled = len(final_selected_symptoms) < 5 or len(final_selected_symptoms) > 17\n",
    "\n",
    "        if st.button(\"Predict\", disabled=predict_disabled):\n",
    "            # Convert selected symptoms to encoded format\n",
    "            encoded_symptoms = np.zeros(len(symptoms_list))\n",
    "            for symptom in final_selected_symptoms:\n",
    "                if symptom in symptoms_list:\n",
    "                    encoded_symptoms[symptoms_list.index(symptom)] = 1\n",
    "\n",
    "            # Prepare input for the model\n",
    "            final_input = np.zeros((1, 676))  # Ensure the input has 676 features as expected by the model\n",
    "            final_input[0, :len(encoded_symptoms)] = encoded_symptoms\n",
    "\n",
    "            # Predict using the model\n",
    "            predictions = model.predict(final_input)\n",
    "\n",
    "            # Post-prediction adjustments\n",
    "            disease_match_scores = {}\n",
    "            for _, row in df.iterrows():\n",
    "                disease_symptoms = row[1:].values  # Skip the first column (Disease)\n",
    "                disease_encoded = np.array([1 if symptom in disease_symptoms else 0 for symptom in symptoms_list])\n",
    "                match_score = np.sum(encoded_symptoms == disease_encoded)\n",
    "                disease_match_scores[row['Disease']] = match_score\n",
    "\n",
    "            # Exact match boost\n",
    "            if any(np.array_equal(encoded_symptoms, df.iloc[i, 1:].values) for i in range(len(df))):\n",
    "                exact_match_disease = next(df['Disease'][i] for i in range(len(df)) if np.array_equal(encoded_symptoms, df.iloc[i, 1:].values))\n",
    "                exact_match_idx = df[df['Disease'] == exact_match_disease].index[0]\n",
    "                if exact_match_idx < len(predictions[0]):\n",
    "                    predictions[0][exact_match_idx] *= 2.0\n",
    "\n",
    "            # Partial match boost\n",
    "            elif any(score >= 10 for score in disease_match_scores.values()):\n",
    "                partial_match_disease = max(disease_match_scores, key=disease_match_scores.get)\n",
    "                partial_match_idx = df[df['Disease'] == partial_match_disease].index[0]\n",
    "                if partial_match_idx < len(predictions[0]):\n",
    "                    predictions[0][partial_match_idx] *= 1.5\n",
    "\n",
    "            # Less significant match boost\n",
    "            else:\n",
    "                best_match_disease = max(disease_match_scores, key=disease_match_scores.get)\n",
    "                best_match_idx = df[df['Disease'] == best_match_disease].index[0]\n",
    "                if best_match_idx < len(predictions[0]):\n",
    "                    predictions[0][best_match_idx] *= 1.2\n",
    "\n",
    "            # Normalize predictions\n",
    "            predictions = predictions / predictions.sum() * 100\n",
    "\n",
    "            # Create DataFrame for predictions\n",
    "            diseases = df['Disease'].unique()\n",
    "            prediction_df = pd.DataFrame(predictions, columns=diseases).T\n",
    "            prediction_df.columns = ['Probability']\n",
    "            prediction_df = prediction_df.sort_values(by='Probability', ascending=False)\n",
    "\n",
    "            # Select the top 5 diseases\n",
    "            top_5 = prediction_df.head(5)\n",
    "\n",
    "            # Adjust the probabilities to sum to 100%\n",
    "            top_5['Probability'] = (top_5['Probability'] / top_5['Probability'].sum()) * 100\n",
    "\n",
    "            # Display the prediction result text\n",
    "            st.markdown(f\"**Patient has a high chance of having {top_5.index[0]}**\")\n",
    "\n",
    "            # Plot interactive pie chart for the top 5 diseases\n",
    "            fig = px.pie(top_5, values='Probability', names=top_5.index, title='Top 5 Disease Predictions')\n",
    "            fig.update_traces(textposition='inside', textinfo='percent+label')\n",
    "            fig.update_layout(margin=dict(t=20, b=20, l=20, r=20), height=400, width=400)\n",
    "            st.plotly_chart(fig)\n",
    "\n",
    "            # Display additional disease suggestions\n",
    "            remaining_diseases = prediction_df.iloc[5:].index.tolist()\n",
    "            if remaining_diseases:\n",
    "                additional_diseases = random.sample(remaining_diseases, min(4, len(remaining_diseases)))\n",
    "                st.write(\"Here are additional diseases the medical provider may want to consider, accompanied by lab work, diagnoses, and care suggestions.\")\n",
    "                st.write(\", \".join(additional_diseases))\n",
    "            else:\n",
    "                st.write(\"No other diseases can be indicated at this time.\")\n",
    "            st.write(\"\"\"\n",
    "            This data was pulled from the CDC using their research studies on listed diseases and symptoms. Please note that these predictions are not definitive diagnoses and should be used as a guide to aid in clinical decision-making. For accurate diagnosis and treatment, medical professionals should rely on comprehensive clinical evaluation and testing.\n",
    "            \"\"\")\n"
   ]
  },
  {
   "cell_type": "code",
   "execution_count": 8,
   "metadata": {},
   "outputs": [
    {
     "name": "stderr",
     "output_type": "stream",
     "text": [
      "2025-02-06 09:57:36.791 Thread 'MainThread': missing ScriptRunContext! This warning can be ignored when running in bare mode.\n",
      "2025-02-06 09:57:36.792 Thread 'MainThread': missing ScriptRunContext! This warning can be ignored when running in bare mode.\n"
     ]
    },
    {
     "data": {
      "text/plain": [
       "DeltaGenerator()"
      ]
     },
     "execution_count": 8,
     "metadata": {},
     "output_type": "execute_result"
    }
   ],
   "source": [
    "# Custom styling for a medical-themed look with a smooth background image\n",
    "st.markdown(\"\"\"\n",
    "    <style>\n",
    "    body {\n",
    "        background-image: url('https://www.example.com/medical_background.jpg');\n",
    "        background-size: cover;\n",
    "        background-attachment: fixed;\n",
    "    }\n",
    "    .stButton button {\n",
    "        background-color: #4CAF50;\n",
    "        color: white;\n",
    "        border-radius: 5px;\n",
    "        padding: 8px;\n",
    "        margin-top: 8px;\n",
    "        width: 100%;\n",
    "    }\n",
    "    .stButton button:hover {\n",
    "        background-color: #45a049;\n",
    "    }\n",
    "    .stMarkdown {\n",
    "        font-family: Arial, sans-serif;\n",
    "        color: #333333;\n",
    "        font-size: 15px;\n",
    "    }\n",
    "    .css-1aumxhk {\n",
    "        padding: 15px;\n",
    "        background: rgba(255, 255, 255, 0.8);\n",
    "        border-radius: 10px;\n",
    "    }\n",
    "    .css-18e3th9 {\n",
    "        padding: 15px;\n",
    "    }\n",
    "    </style>\n",
    "    \"\"\", unsafe_allow_html=True)\n"
   ]
  }
 ],
 "metadata": {
  "kernelspec": {
   "display_name": "dev",
   "language": "python",
   "name": "python3"
  },
  "language_info": {
   "codemirror_mode": {
    "name": "ipython",
    "version": 3
   },
   "file_extension": ".py",
   "mimetype": "text/x-python",
   "name": "python",
   "nbconvert_exporter": "python",
   "pygments_lexer": "ipython3",
   "version": "3.12.4"
  }
 },
 "nbformat": 4,
 "nbformat_minor": 2
}
